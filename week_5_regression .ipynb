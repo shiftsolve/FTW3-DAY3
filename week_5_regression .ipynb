{
 "cells": [
  {
   "cell_type": "code",
   "execution_count": 2,
   "metadata": {},
   "outputs": [],
   "source": [
    "# IMPORT GENERIC PACKAGES\n",
    "import numpy as np # numerical calc package\n",
    "import pandas as pd # holds data\n",
    "import matplotlib.pyplot as plt # plotting library\n",
    "import seaborn as sns # pretty plotting\n",
    "\n",
    "\n",
    "\n",
    "from sklearn.ensemble import BaggingClassifier\n",
    "from sklearn.neighbors import KNeighborsClassifier\n",
    "\n",
    "# plotting config\n",
    "sns.set(style='white', rc={'figure.figsize':(20,10)})\n",
    "\n",
    "from sklearn.linear_model import LinearRegression # linear regression package\n",
    "from sklearn.model_selection import train_test_split # split dataset\n",
    "from sklearn.metrics import mean_squared_error as mse # Measurement metric"
   ]
  },
  {
   "cell_type": "code",
   "execution_count": 3,
   "metadata": {},
   "outputs": [],
   "source": [
    "# read data into a DataFrame\n",
    "data = pd.read_csv('nyc-rolling-sales.csv', index_col=0)"
   ]
  },
  {
   "cell_type": "code",
   "execution_count": 4,
   "metadata": {},
   "outputs": [
    {
     "data": {
      "text/html": [
       "<div>\n",
       "<style scoped>\n",
       "    .dataframe tbody tr th:only-of-type {\n",
       "        vertical-align: middle;\n",
       "    }\n",
       "\n",
       "    .dataframe tbody tr th {\n",
       "        vertical-align: top;\n",
       "    }\n",
       "\n",
       "    .dataframe thead th {\n",
       "        text-align: right;\n",
       "    }\n",
       "</style>\n",
       "<table border=\"1\" class=\"dataframe\">\n",
       "  <thead>\n",
       "    <tr style=\"text-align: right;\">\n",
       "      <th></th>\n",
       "      <th>BOROUGH</th>\n",
       "      <th>NEIGHBORHOOD</th>\n",
       "      <th>BUILDING CLASS CATEGORY</th>\n",
       "      <th>TAX CLASS AT PRESENT</th>\n",
       "      <th>BLOCK</th>\n",
       "      <th>LOT</th>\n",
       "      <th>EASE-MENT</th>\n",
       "      <th>BUILDING CLASS AT PRESENT</th>\n",
       "      <th>ADDRESS</th>\n",
       "      <th>APARTMENT NUMBER</th>\n",
       "      <th>...</th>\n",
       "      <th>RESIDENTIAL UNITS</th>\n",
       "      <th>COMMERCIAL UNITS</th>\n",
       "      <th>TOTAL UNITS</th>\n",
       "      <th>LAND SQUARE FEET</th>\n",
       "      <th>GROSS SQUARE FEET</th>\n",
       "      <th>YEAR BUILT</th>\n",
       "      <th>TAX CLASS AT TIME OF SALE</th>\n",
       "      <th>BUILDING CLASS AT TIME OF SALE</th>\n",
       "      <th>SALE PRICE</th>\n",
       "      <th>SALE DATE</th>\n",
       "    </tr>\n",
       "  </thead>\n",
       "  <tbody>\n",
       "    <tr>\n",
       "      <td>4</td>\n",
       "      <td>1</td>\n",
       "      <td>ALPHABET CITY</td>\n",
       "      <td>07 RENTALS - WALKUP APARTMENTS</td>\n",
       "      <td>2A</td>\n",
       "      <td>392</td>\n",
       "      <td>6</td>\n",
       "      <td></td>\n",
       "      <td>C2</td>\n",
       "      <td>153 AVENUE B</td>\n",
       "      <td></td>\n",
       "      <td>...</td>\n",
       "      <td>5</td>\n",
       "      <td>0</td>\n",
       "      <td>5</td>\n",
       "      <td>1633</td>\n",
       "      <td>6440</td>\n",
       "      <td>1900</td>\n",
       "      <td>2</td>\n",
       "      <td>C2</td>\n",
       "      <td>6625000</td>\n",
       "      <td>2017-07-19 00:00:00</td>\n",
       "    </tr>\n",
       "    <tr>\n",
       "      <td>5</td>\n",
       "      <td>1</td>\n",
       "      <td>ALPHABET CITY</td>\n",
       "      <td>07 RENTALS - WALKUP APARTMENTS</td>\n",
       "      <td>2</td>\n",
       "      <td>399</td>\n",
       "      <td>26</td>\n",
       "      <td></td>\n",
       "      <td>C7</td>\n",
       "      <td>234 EAST 4TH   STREET</td>\n",
       "      <td></td>\n",
       "      <td>...</td>\n",
       "      <td>28</td>\n",
       "      <td>3</td>\n",
       "      <td>31</td>\n",
       "      <td>4616</td>\n",
       "      <td>18690</td>\n",
       "      <td>1900</td>\n",
       "      <td>2</td>\n",
       "      <td>C7</td>\n",
       "      <td>-</td>\n",
       "      <td>2016-12-14 00:00:00</td>\n",
       "    </tr>\n",
       "    <tr>\n",
       "      <td>6</td>\n",
       "      <td>1</td>\n",
       "      <td>ALPHABET CITY</td>\n",
       "      <td>07 RENTALS - WALKUP APARTMENTS</td>\n",
       "      <td>2</td>\n",
       "      <td>399</td>\n",
       "      <td>39</td>\n",
       "      <td></td>\n",
       "      <td>C7</td>\n",
       "      <td>197 EAST 3RD   STREET</td>\n",
       "      <td></td>\n",
       "      <td>...</td>\n",
       "      <td>16</td>\n",
       "      <td>1</td>\n",
       "      <td>17</td>\n",
       "      <td>2212</td>\n",
       "      <td>7803</td>\n",
       "      <td>1900</td>\n",
       "      <td>2</td>\n",
       "      <td>C7</td>\n",
       "      <td>-</td>\n",
       "      <td>2016-12-09 00:00:00</td>\n",
       "    </tr>\n",
       "  </tbody>\n",
       "</table>\n",
       "<p>3 rows × 21 columns</p>\n",
       "</div>"
      ],
      "text/plain": [
       "   BOROUGH   NEIGHBORHOOD                      BUILDING CLASS CATEGORY  \\\n",
       "4        1  ALPHABET CITY  07 RENTALS - WALKUP APARTMENTS                \n",
       "5        1  ALPHABET CITY  07 RENTALS - WALKUP APARTMENTS                \n",
       "6        1  ALPHABET CITY  07 RENTALS - WALKUP APARTMENTS                \n",
       "\n",
       "  TAX CLASS AT PRESENT  BLOCK  LOT EASE-MENT BUILDING CLASS AT PRESENT  \\\n",
       "4                   2A    392    6                                  C2   \n",
       "5                    2    399   26                                  C7   \n",
       "6                    2    399   39                                  C7   \n",
       "\n",
       "                 ADDRESS APARTMENT NUMBER  ...  RESIDENTIAL UNITS  \\\n",
       "4           153 AVENUE B                   ...                  5   \n",
       "5  234 EAST 4TH   STREET                   ...                 28   \n",
       "6  197 EAST 3RD   STREET                   ...                 16   \n",
       "\n",
       "   COMMERCIAL UNITS  TOTAL UNITS  LAND SQUARE FEET GROSS SQUARE FEET  \\\n",
       "4                 0            5              1633              6440   \n",
       "5                 3           31              4616             18690   \n",
       "6                 1           17              2212              7803   \n",
       "\n",
       "  YEAR BUILT  TAX CLASS AT TIME OF SALE  BUILDING CLASS AT TIME OF SALE  \\\n",
       "4       1900                          2                              C2   \n",
       "5       1900                          2                              C7   \n",
       "6       1900                          2                              C7   \n",
       "\n",
       "  SALE PRICE            SALE DATE  \n",
       "4    6625000  2017-07-19 00:00:00  \n",
       "5        -    2016-12-14 00:00:00  \n",
       "6        -    2016-12-09 00:00:00  \n",
       "\n",
       "[3 rows x 21 columns]"
      ]
     },
     "execution_count": 4,
     "metadata": {},
     "output_type": "execute_result"
    }
   ],
   "source": [
    "data.head(3)"
   ]
  },
  {
   "cell_type": "code",
   "execution_count": 5,
   "metadata": {},
   "outputs": [
    {
     "name": "stdout",
     "output_type": "stream",
     "text": [
      "Requirement already satisfied: pandas_profiling in c:\\users\\janine\\anaconda3\\lib\\site-packages (2.3.0)\n",
      "Requirement already satisfied: confuse>=1.0.0 in c:\\users\\janine\\anaconda3\\lib\\site-packages (from pandas_profiling) (1.0.0)\n",
      "Requirement already satisfied: pandas>=0.19 in c:\\users\\janine\\anaconda3\\lib\\site-packages (from pandas_profiling) (0.25.1)\n",
      "Requirement already satisfied: astropy in c:\\users\\janine\\anaconda3\\lib\\site-packages (from pandas_profiling) (3.2.1)\n",
      "Requirement already satisfied: jinja2>=2.8 in c:\\users\\janine\\anaconda3\\lib\\site-packages (from pandas_profiling) (2.10.3)\n",
      "Requirement already satisfied: missingno>=0.4.2 in c:\\users\\janine\\anaconda3\\lib\\site-packages (from pandas_profiling) (0.4.2)\n",
      "Requirement already satisfied: phik>=0.9.8 in c:\\users\\janine\\anaconda3\\lib\\site-packages (from pandas_profiling) (0.9.8)\n",
      "Requirement already satisfied: htmlmin>=0.1.12 in c:\\users\\janine\\anaconda3\\lib\\site-packages (from pandas_profiling) (0.1.12)\n",
      "Requirement already satisfied: matplotlib>=1.4 in c:\\users\\janine\\anaconda3\\lib\\site-packages (from pandas_profiling) (3.1.1)\n",
      "Requirement already satisfied: pyyaml in c:\\users\\janine\\anaconda3\\lib\\site-packages (from confuse>=1.0.0->pandas_profiling) (5.1.2)\n",
      "Requirement already satisfied: python-dateutil>=2.6.1 in c:\\users\\janine\\anaconda3\\lib\\site-packages (from pandas>=0.19->pandas_profiling) (2.8.0)\n",
      "Requirement already satisfied: pytz>=2017.2 in c:\\users\\janine\\anaconda3\\lib\\site-packages (from pandas>=0.19->pandas_profiling) (2019.3)\n",
      "Requirement already satisfied: numpy>=1.13.3 in c:\\users\\janine\\anaconda3\\lib\\site-packages (from pandas>=0.19->pandas_profiling) (1.16.5)\n",
      "Requirement already satisfied: MarkupSafe>=0.23 in c:\\users\\janine\\anaconda3\\lib\\site-packages (from jinja2>=2.8->pandas_profiling) (1.1.1)\n",
      "Requirement already satisfied: scipy in c:\\users\\janine\\anaconda3\\lib\\site-packages (from missingno>=0.4.2->pandas_profiling) (1.3.1)\n",
      "Requirement already satisfied: seaborn in c:\\users\\janine\\anaconda3\\lib\\site-packages (from missingno>=0.4.2->pandas_profiling) (0.9.0)\n",
      "Requirement already satisfied: nbconvert>=5.3.1 in c:\\users\\janine\\anaconda3\\lib\\site-packages (from phik>=0.9.8->pandas_profiling) (5.6.0)\n",
      "Requirement already satisfied: jupyter-client>=5.2.3 in c:\\users\\janine\\anaconda3\\lib\\site-packages (from phik>=0.9.8->pandas_profiling) (5.3.3)\n",
      "Requirement already satisfied: pytest-pylint>=0.13.0 in c:\\users\\janine\\anaconda3\\lib\\site-packages (from phik>=0.9.8->pandas_profiling) (0.14.1)\n",
      "Requirement already satisfied: numba>=0.38.1 in c:\\users\\janine\\anaconda3\\lib\\site-packages (from phik>=0.9.8->pandas_profiling) (0.45.1)\n",
      "Requirement already satisfied: pytest>=4.0.2 in c:\\users\\janine\\anaconda3\\lib\\site-packages (from phik>=0.9.8->pandas_profiling) (5.2.1)\n",
      "Requirement already satisfied: cycler>=0.10 in c:\\users\\janine\\anaconda3\\lib\\site-packages (from matplotlib>=1.4->pandas_profiling) (0.10.0)\n",
      "Requirement already satisfied: kiwisolver>=1.0.1 in c:\\users\\janine\\anaconda3\\lib\\site-packages (from matplotlib>=1.4->pandas_profiling) (1.1.0)\n",
      "Requirement already satisfied: pyparsing!=2.0.4,!=2.1.2,!=2.1.6,>=2.0.1 in c:\\users\\janine\\anaconda3\\lib\\site-packages (from matplotlib>=1.4->pandas_profiling) (2.4.2)\n",
      "Requirement already satisfied: six>=1.5 in c:\\users\\janine\\anaconda3\\lib\\site-packages (from python-dateutil>=2.6.1->pandas>=0.19->pandas_profiling) (1.12.0)\n",
      "Requirement already satisfied: nbformat>=4.4 in c:\\users\\janine\\anaconda3\\lib\\site-packages (from nbconvert>=5.3.1->phik>=0.9.8->pandas_profiling) (4.4.0)\n",
      "Requirement already satisfied: testpath in c:\\users\\janine\\anaconda3\\lib\\site-packages (from nbconvert>=5.3.1->phik>=0.9.8->pandas_profiling) (0.4.2)\n",
      "Requirement already satisfied: defusedxml in c:\\users\\janine\\anaconda3\\lib\\site-packages (from nbconvert>=5.3.1->phik>=0.9.8->pandas_profiling) (0.6.0)\n",
      "Requirement already satisfied: traitlets>=4.2 in c:\\users\\janine\\anaconda3\\lib\\site-packages (from nbconvert>=5.3.1->phik>=0.9.8->pandas_profiling) (4.3.3)\n",
      "Requirement already satisfied: jupyter-core in c:\\users\\janine\\anaconda3\\lib\\site-packages (from nbconvert>=5.3.1->phik>=0.9.8->pandas_profiling) (4.5.0)\n",
      "Requirement already satisfied: pygments in c:\\users\\janine\\anaconda3\\lib\\site-packages (from nbconvert>=5.3.1->phik>=0.9.8->pandas_profiling) (2.4.2)\n",
      "Requirement already satisfied: pandocfilters>=1.4.1 in c:\\users\\janine\\anaconda3\\lib\\site-packages (from nbconvert>=5.3.1->phik>=0.9.8->pandas_profiling) (1.4.2)\n",
      "Requirement already satisfied: entrypoints>=0.2.2 in c:\\users\\janine\\anaconda3\\lib\\site-packages (from nbconvert>=5.3.1->phik>=0.9.8->pandas_profiling) (0.3)\n",
      "Requirement already satisfied: bleach in c:\\users\\janine\\anaconda3\\lib\\site-packages (from nbconvert>=5.3.1->phik>=0.9.8->pandas_profiling) (3.1.0)\n",
      "Requirement already satisfied: mistune<2,>=0.8.1 in c:\\users\\janine\\anaconda3\\lib\\site-packages (from nbconvert>=5.3.1->phik>=0.9.8->pandas_profiling) (0.8.4)\n",
      "Requirement already satisfied: pywin32>=1.0; sys_platform == \"win32\" in c:\\users\\janine\\anaconda3\\lib\\site-packages (from jupyter-client>=5.2.3->phik>=0.9.8->pandas_profiling) (223)\n",
      "Requirement already satisfied: pyzmq>=13 in c:\\users\\janine\\anaconda3\\lib\\site-packages (from jupyter-client>=5.2.3->phik>=0.9.8->pandas_profiling) (18.1.0)\n",
      "Requirement already satisfied: tornado>=4.1 in c:\\users\\janine\\anaconda3\\lib\\site-packages (from jupyter-client>=5.2.3->phik>=0.9.8->pandas_profiling) (6.0.3)\n",
      "Requirement already satisfied: pylint>=1.4.5 in c:\\users\\janine\\anaconda3\\lib\\site-packages (from pytest-pylint>=0.13.0->phik>=0.9.8->pandas_profiling) (2.4.2)\n",
      "Requirement already satisfied: llvmlite>=0.29.0dev0 in c:\\users\\janine\\anaconda3\\lib\\site-packages (from numba>=0.38.1->phik>=0.9.8->pandas_profiling) (0.29.0)\n",
      "Requirement already satisfied: py>=1.5.0 in c:\\users\\janine\\anaconda3\\lib\\site-packages (from pytest>=4.0.2->phik>=0.9.8->pandas_profiling) (1.8.0)\n",
      "Requirement already satisfied: packaging in c:\\users\\janine\\anaconda3\\lib\\site-packages (from pytest>=4.0.2->phik>=0.9.8->pandas_profiling) (19.2)\n",
      "Requirement already satisfied: attrs>=17.4.0 in c:\\users\\janine\\anaconda3\\lib\\site-packages (from pytest>=4.0.2->phik>=0.9.8->pandas_profiling) (19.2.0)\n",
      "Requirement already satisfied: more-itertools>=4.0.0 in c:\\users\\janine\\anaconda3\\lib\\site-packages (from pytest>=4.0.2->phik>=0.9.8->pandas_profiling) (7.2.0)\n",
      "Requirement already satisfied: atomicwrites>=1.0 in c:\\users\\janine\\anaconda3\\lib\\site-packages (from pytest>=4.0.2->phik>=0.9.8->pandas_profiling) (1.3.0)\n",
      "Requirement already satisfied: pluggy<1.0,>=0.12 in c:\\users\\janine\\anaconda3\\lib\\site-packages (from pytest>=4.0.2->phik>=0.9.8->pandas_profiling) (0.13.0)\n",
      "Requirement already satisfied: wcwidth in c:\\users\\janine\\anaconda3\\lib\\site-packages (from pytest>=4.0.2->phik>=0.9.8->pandas_profiling) (0.1.7)\n",
      "Requirement already satisfied: importlib-metadata>=0.12 in c:\\users\\janine\\anaconda3\\lib\\site-packages (from pytest>=4.0.2->phik>=0.9.8->pandas_profiling) (0.23)\n",
      "Requirement already satisfied: colorama in c:\\users\\janine\\anaconda3\\lib\\site-packages (from pytest>=4.0.2->phik>=0.9.8->pandas_profiling) (0.4.1)\n",
      "Requirement already satisfied: setuptools in c:\\users\\janine\\anaconda3\\lib\\site-packages (from kiwisolver>=1.0.1->matplotlib>=1.4->pandas_profiling) (41.4.0)\n",
      "Requirement already satisfied: ipython-genutils in c:\\users\\janine\\anaconda3\\lib\\site-packages (from nbformat>=4.4->nbconvert>=5.3.1->phik>=0.9.8->pandas_profiling) (0.2.0)\n",
      "Requirement already satisfied: jsonschema!=2.5.0,>=2.4 in c:\\users\\janine\\anaconda3\\lib\\site-packages (from nbformat>=4.4->nbconvert>=5.3.1->phik>=0.9.8->pandas_profiling) (3.0.2)\n",
      "Requirement already satisfied: decorator in c:\\users\\janine\\anaconda3\\lib\\site-packages (from traitlets>=4.2->nbconvert>=5.3.1->phik>=0.9.8->pandas_profiling) (4.4.0)\n",
      "Requirement already satisfied: webencodings in c:\\users\\janine\\anaconda3\\lib\\site-packages (from bleach->nbconvert>=5.3.1->phik>=0.9.8->pandas_profiling) (0.5.1)\n",
      "Requirement already satisfied: mccabe<0.7,>=0.6 in c:\\users\\janine\\anaconda3\\lib\\site-packages (from pylint>=1.4.5->pytest-pylint>=0.13.0->phik>=0.9.8->pandas_profiling) (0.6.1)\n",
      "Requirement already satisfied: astroid<2.4,>=2.3.0 in c:\\users\\janine\\anaconda3\\lib\\site-packages (from pylint>=1.4.5->pytest-pylint>=0.13.0->phik>=0.9.8->pandas_profiling) (2.3.1)\n",
      "Requirement already satisfied: isort<5,>=4.2.5 in c:\\users\\janine\\anaconda3\\lib\\site-packages (from pylint>=1.4.5->pytest-pylint>=0.13.0->phik>=0.9.8->pandas_profiling) (4.3.21)\n",
      "Requirement already satisfied: zipp>=0.5 in c:\\users\\janine\\anaconda3\\lib\\site-packages (from importlib-metadata>=0.12->pytest>=4.0.2->phik>=0.9.8->pandas_profiling) (0.6.0)\n",
      "Requirement already satisfied: pyrsistent>=0.14.0 in c:\\users\\janine\\anaconda3\\lib\\site-packages (from jsonschema!=2.5.0,>=2.4->nbformat>=4.4->nbconvert>=5.3.1->phik>=0.9.8->pandas_profiling) (0.15.4)\n",
      "Requirement already satisfied: typed-ast<1.5,>=1.4.0; implementation_name == \"cpython\" and python_version < \"3.8\" in c:\\users\\janine\\anaconda3\\lib\\site-packages (from astroid<2.4,>=2.3.0->pylint>=1.4.5->pytest-pylint>=0.13.0->phik>=0.9.8->pandas_profiling) (1.4.0)\n",
      "Requirement already satisfied: wrapt==1.11.* in c:\\users\\janine\\anaconda3\\lib\\site-packages (from astroid<2.4,>=2.3.0->pylint>=1.4.5->pytest-pylint>=0.13.0->phik>=0.9.8->pandas_profiling) (1.11.2)\n",
      "Requirement already satisfied: lazy-object-proxy==1.4.* in c:\\users\\janine\\anaconda3\\lib\\site-packages (from astroid<2.4,>=2.3.0->pylint>=1.4.5->pytest-pylint>=0.13.0->phik>=0.9.8->pandas_profiling) (1.4.2)\n"
     ]
    }
   ],
   "source": [
    "#! pip install pandas_profiling\n",
    "#import pandas_profiling as pp"
   ]
  },
  {
   "cell_type": "code",
   "execution_count": 6,
   "metadata": {},
   "outputs": [],
   "source": [
    "#report = pp.ProfileReport (data)\n",
    "#report"
   ]
  },
  {
   "cell_type": "code",
   "execution_count": 7,
   "metadata": {},
   "outputs": [
    {
     "data": {
      "text/plain": [
       "(84548, 21)"
      ]
     },
     "execution_count": 7,
     "metadata": {},
     "output_type": "execute_result"
    }
   ],
   "source": [
    "data.shape"
   ]
  },
  {
   "cell_type": "code",
   "execution_count": 8,
   "metadata": {},
   "outputs": [
    {
     "name": "stdout",
     "output_type": "stream",
     "text": [
      "<class 'pandas.core.frame.DataFrame'>\n",
      "Int64Index: 84548 entries, 4 to 8413\n",
      "Data columns (total 21 columns):\n",
      "BOROUGH                           84548 non-null int64\n",
      "NEIGHBORHOOD                      84548 non-null object\n",
      "BUILDING CLASS CATEGORY           84548 non-null object\n",
      "TAX CLASS AT PRESENT              84548 non-null object\n",
      "BLOCK                             84548 non-null int64\n",
      "LOT                               84548 non-null int64\n",
      "EASE-MENT                         84548 non-null object\n",
      "BUILDING CLASS AT PRESENT         84548 non-null object\n",
      "ADDRESS                           84548 non-null object\n",
      "APARTMENT NUMBER                  84548 non-null object\n",
      "ZIP CODE                          84548 non-null int64\n",
      "RESIDENTIAL UNITS                 84548 non-null int64\n",
      "COMMERCIAL UNITS                  84548 non-null int64\n",
      "TOTAL UNITS                       84548 non-null int64\n",
      "LAND SQUARE FEET                  84548 non-null object\n",
      "GROSS SQUARE FEET                 84548 non-null object\n",
      "YEAR BUILT                        84548 non-null int64\n",
      "TAX CLASS AT TIME OF SALE         84548 non-null int64\n",
      "BUILDING CLASS AT TIME OF SALE    84548 non-null object\n",
      "SALE PRICE                        84548 non-null object\n",
      "SALE DATE                         84548 non-null object\n",
      "dtypes: int64(9), object(12)\n",
      "memory usage: 14.2+ MB\n"
     ]
    }
   ],
   "source": [
    "data.info()"
   ]
  },
  {
   "cell_type": "code",
   "execution_count": 9,
   "metadata": {},
   "outputs": [],
   "source": [
    "data['SALE PRICE'] = pd.to_numeric(data['SALE PRICE'], errors='coerce')\n",
    "data['LAND SQUARE FEET'] = pd.to_numeric(data['LAND SQUARE FEET'], errors='coerce')\n",
    "data['GROSS SQUARE FEET'] = pd.to_numeric(data['GROSS SQUARE FEET'], errors='coerce')\n",
    "\n"
   ]
  },
  {
   "cell_type": "code",
   "execution_count": 10,
   "metadata": {},
   "outputs": [
    {
     "data": {
      "text/html": [
       "<div>\n",
       "<style scoped>\n",
       "    .dataframe tbody tr th:only-of-type {\n",
       "        vertical-align: middle;\n",
       "    }\n",
       "\n",
       "    .dataframe tbody tr th {\n",
       "        vertical-align: top;\n",
       "    }\n",
       "\n",
       "    .dataframe thead th {\n",
       "        text-align: right;\n",
       "    }\n",
       "</style>\n",
       "<table border=\"1\" class=\"dataframe\">\n",
       "  <thead>\n",
       "    <tr style=\"text-align: right;\">\n",
       "      <th></th>\n",
       "      <th>BOROUGH</th>\n",
       "      <th>BLOCK</th>\n",
       "      <th>LOT</th>\n",
       "      <th>ZIP CODE</th>\n",
       "      <th>RESIDENTIAL UNITS</th>\n",
       "      <th>COMMERCIAL UNITS</th>\n",
       "      <th>TOTAL UNITS</th>\n",
       "      <th>LAND SQUARE FEET</th>\n",
       "      <th>GROSS SQUARE FEET</th>\n",
       "      <th>YEAR BUILT</th>\n",
       "      <th>TAX CLASS AT TIME OF SALE</th>\n",
       "      <th>SALE PRICE</th>\n",
       "    </tr>\n",
       "  </thead>\n",
       "  <tbody>\n",
       "    <tr>\n",
       "      <td>count</td>\n",
       "      <td>84548.000000</td>\n",
       "      <td>84548.000000</td>\n",
       "      <td>84548.000000</td>\n",
       "      <td>84548.000000</td>\n",
       "      <td>84548.000000</td>\n",
       "      <td>84548.000000</td>\n",
       "      <td>84548.000000</td>\n",
       "      <td>5.829600e+04</td>\n",
       "      <td>5.693600e+04</td>\n",
       "      <td>84548.000000</td>\n",
       "      <td>84548.000000</td>\n",
       "      <td>6.998700e+04</td>\n",
       "    </tr>\n",
       "    <tr>\n",
       "      <td>mean</td>\n",
       "      <td>2.998758</td>\n",
       "      <td>4237.218976</td>\n",
       "      <td>376.224015</td>\n",
       "      <td>10731.991614</td>\n",
       "      <td>2.025264</td>\n",
       "      <td>0.193559</td>\n",
       "      <td>2.249184</td>\n",
       "      <td>3.941676e+03</td>\n",
       "      <td>4.045707e+03</td>\n",
       "      <td>1789.322976</td>\n",
       "      <td>1.657485</td>\n",
       "      <td>1.276456e+06</td>\n",
       "    </tr>\n",
       "    <tr>\n",
       "      <td>std</td>\n",
       "      <td>1.289790</td>\n",
       "      <td>3568.263407</td>\n",
       "      <td>658.136814</td>\n",
       "      <td>1290.879147</td>\n",
       "      <td>16.721037</td>\n",
       "      <td>8.713183</td>\n",
       "      <td>18.972584</td>\n",
       "      <td>4.198397e+04</td>\n",
       "      <td>3.503249e+04</td>\n",
       "      <td>537.344993</td>\n",
       "      <td>0.819341</td>\n",
       "      <td>1.140526e+07</td>\n",
       "    </tr>\n",
       "    <tr>\n",
       "      <td>min</td>\n",
       "      <td>1.000000</td>\n",
       "      <td>1.000000</td>\n",
       "      <td>1.000000</td>\n",
       "      <td>0.000000</td>\n",
       "      <td>0.000000</td>\n",
       "      <td>0.000000</td>\n",
       "      <td>0.000000</td>\n",
       "      <td>0.000000e+00</td>\n",
       "      <td>0.000000e+00</td>\n",
       "      <td>0.000000</td>\n",
       "      <td>1.000000</td>\n",
       "      <td>0.000000e+00</td>\n",
       "    </tr>\n",
       "    <tr>\n",
       "      <td>25%</td>\n",
       "      <td>2.000000</td>\n",
       "      <td>1322.750000</td>\n",
       "      <td>22.000000</td>\n",
       "      <td>10305.000000</td>\n",
       "      <td>0.000000</td>\n",
       "      <td>0.000000</td>\n",
       "      <td>1.000000</td>\n",
       "      <td>1.650000e+03</td>\n",
       "      <td>1.046750e+03</td>\n",
       "      <td>1920.000000</td>\n",
       "      <td>1.000000</td>\n",
       "      <td>2.250000e+05</td>\n",
       "    </tr>\n",
       "    <tr>\n",
       "      <td>50%</td>\n",
       "      <td>3.000000</td>\n",
       "      <td>3311.000000</td>\n",
       "      <td>50.000000</td>\n",
       "      <td>11209.000000</td>\n",
       "      <td>1.000000</td>\n",
       "      <td>0.000000</td>\n",
       "      <td>1.000000</td>\n",
       "      <td>2.325000e+03</td>\n",
       "      <td>1.680000e+03</td>\n",
       "      <td>1940.000000</td>\n",
       "      <td>2.000000</td>\n",
       "      <td>5.300000e+05</td>\n",
       "    </tr>\n",
       "    <tr>\n",
       "      <td>75%</td>\n",
       "      <td>4.000000</td>\n",
       "      <td>6281.000000</td>\n",
       "      <td>1001.000000</td>\n",
       "      <td>11357.000000</td>\n",
       "      <td>2.000000</td>\n",
       "      <td>0.000000</td>\n",
       "      <td>2.000000</td>\n",
       "      <td>3.500000e+03</td>\n",
       "      <td>2.560000e+03</td>\n",
       "      <td>1965.000000</td>\n",
       "      <td>2.000000</td>\n",
       "      <td>9.500000e+05</td>\n",
       "    </tr>\n",
       "    <tr>\n",
       "      <td>max</td>\n",
       "      <td>5.000000</td>\n",
       "      <td>16322.000000</td>\n",
       "      <td>9106.000000</td>\n",
       "      <td>11694.000000</td>\n",
       "      <td>1844.000000</td>\n",
       "      <td>2261.000000</td>\n",
       "      <td>2261.000000</td>\n",
       "      <td>4.252327e+06</td>\n",
       "      <td>3.750565e+06</td>\n",
       "      <td>2017.000000</td>\n",
       "      <td>4.000000</td>\n",
       "      <td>2.210000e+09</td>\n",
       "    </tr>\n",
       "  </tbody>\n",
       "</table>\n",
       "</div>"
      ],
      "text/plain": [
       "            BOROUGH         BLOCK           LOT      ZIP CODE  \\\n",
       "count  84548.000000  84548.000000  84548.000000  84548.000000   \n",
       "mean       2.998758   4237.218976    376.224015  10731.991614   \n",
       "std        1.289790   3568.263407    658.136814   1290.879147   \n",
       "min        1.000000      1.000000      1.000000      0.000000   \n",
       "25%        2.000000   1322.750000     22.000000  10305.000000   \n",
       "50%        3.000000   3311.000000     50.000000  11209.000000   \n",
       "75%        4.000000   6281.000000   1001.000000  11357.000000   \n",
       "max        5.000000  16322.000000   9106.000000  11694.000000   \n",
       "\n",
       "       RESIDENTIAL UNITS  COMMERCIAL UNITS   TOTAL UNITS  LAND SQUARE FEET  \\\n",
       "count       84548.000000      84548.000000  84548.000000      5.829600e+04   \n",
       "mean            2.025264          0.193559      2.249184      3.941676e+03   \n",
       "std            16.721037          8.713183     18.972584      4.198397e+04   \n",
       "min             0.000000          0.000000      0.000000      0.000000e+00   \n",
       "25%             0.000000          0.000000      1.000000      1.650000e+03   \n",
       "50%             1.000000          0.000000      1.000000      2.325000e+03   \n",
       "75%             2.000000          0.000000      2.000000      3.500000e+03   \n",
       "max          1844.000000       2261.000000   2261.000000      4.252327e+06   \n",
       "\n",
       "       GROSS SQUARE FEET    YEAR BUILT  TAX CLASS AT TIME OF SALE  \\\n",
       "count       5.693600e+04  84548.000000               84548.000000   \n",
       "mean        4.045707e+03   1789.322976                   1.657485   \n",
       "std         3.503249e+04    537.344993                   0.819341   \n",
       "min         0.000000e+00      0.000000                   1.000000   \n",
       "25%         1.046750e+03   1920.000000                   1.000000   \n",
       "50%         1.680000e+03   1940.000000                   2.000000   \n",
       "75%         2.560000e+03   1965.000000                   2.000000   \n",
       "max         3.750565e+06   2017.000000                   4.000000   \n",
       "\n",
       "         SALE PRICE  \n",
       "count  6.998700e+04  \n",
       "mean   1.276456e+06  \n",
       "std    1.140526e+07  \n",
       "min    0.000000e+00  \n",
       "25%    2.250000e+05  \n",
       "50%    5.300000e+05  \n",
       "75%    9.500000e+05  \n",
       "max    2.210000e+09  "
      ]
     },
     "execution_count": 10,
     "metadata": {},
     "output_type": "execute_result"
    }
   ],
   "source": [
    "data.describe()"
   ]
  },
  {
   "cell_type": "code",
   "execution_count": 11,
   "metadata": {},
   "outputs": [
    {
     "data": {
      "text/html": [
       "<div>\n",
       "<style scoped>\n",
       "    .dataframe tbody tr th:only-of-type {\n",
       "        vertical-align: middle;\n",
       "    }\n",
       "\n",
       "    .dataframe tbody tr th {\n",
       "        vertical-align: top;\n",
       "    }\n",
       "\n",
       "    .dataframe thead th {\n",
       "        text-align: right;\n",
       "    }\n",
       "</style>\n",
       "<table border=\"1\" class=\"dataframe\">\n",
       "  <thead>\n",
       "    <tr style=\"text-align: right;\">\n",
       "      <th></th>\n",
       "      <th>BOROUGH</th>\n",
       "      <th>NEIGHBORHOOD</th>\n",
       "      <th>BUILDING CLASS CATEGORY</th>\n",
       "      <th>TAX CLASS AT PRESENT</th>\n",
       "      <th>BLOCK</th>\n",
       "      <th>LOT</th>\n",
       "      <th>EASE-MENT</th>\n",
       "      <th>BUILDING CLASS AT PRESENT</th>\n",
       "      <th>ADDRESS</th>\n",
       "      <th>APARTMENT NUMBER</th>\n",
       "      <th>...</th>\n",
       "      <th>RESIDENTIAL UNITS</th>\n",
       "      <th>COMMERCIAL UNITS</th>\n",
       "      <th>TOTAL UNITS</th>\n",
       "      <th>LAND SQUARE FEET</th>\n",
       "      <th>GROSS SQUARE FEET</th>\n",
       "      <th>YEAR BUILT</th>\n",
       "      <th>TAX CLASS AT TIME OF SALE</th>\n",
       "      <th>BUILDING CLASS AT TIME OF SALE</th>\n",
       "      <th>SALE PRICE</th>\n",
       "      <th>SALE DATE</th>\n",
       "    </tr>\n",
       "  </thead>\n",
       "  <tbody>\n",
       "    <tr>\n",
       "      <td>4</td>\n",
       "      <td>1</td>\n",
       "      <td>ALPHABET CITY</td>\n",
       "      <td>07 RENTALS - WALKUP APARTMENTS</td>\n",
       "      <td>2A</td>\n",
       "      <td>392</td>\n",
       "      <td>6</td>\n",
       "      <td></td>\n",
       "      <td>C2</td>\n",
       "      <td>153 AVENUE B</td>\n",
       "      <td></td>\n",
       "      <td>...</td>\n",
       "      <td>5</td>\n",
       "      <td>0</td>\n",
       "      <td>5</td>\n",
       "      <td>1633.0</td>\n",
       "      <td>6440.0</td>\n",
       "      <td>1900</td>\n",
       "      <td>2</td>\n",
       "      <td>C2</td>\n",
       "      <td>6625000.0</td>\n",
       "      <td>2017-07-19 00:00:00</td>\n",
       "    </tr>\n",
       "    <tr>\n",
       "      <td>5</td>\n",
       "      <td>1</td>\n",
       "      <td>ALPHABET CITY</td>\n",
       "      <td>07 RENTALS - WALKUP APARTMENTS</td>\n",
       "      <td>2</td>\n",
       "      <td>399</td>\n",
       "      <td>26</td>\n",
       "      <td></td>\n",
       "      <td>C7</td>\n",
       "      <td>234 EAST 4TH   STREET</td>\n",
       "      <td></td>\n",
       "      <td>...</td>\n",
       "      <td>28</td>\n",
       "      <td>3</td>\n",
       "      <td>31</td>\n",
       "      <td>4616.0</td>\n",
       "      <td>18690.0</td>\n",
       "      <td>1900</td>\n",
       "      <td>2</td>\n",
       "      <td>C7</td>\n",
       "      <td>NaN</td>\n",
       "      <td>2016-12-14 00:00:00</td>\n",
       "    </tr>\n",
       "    <tr>\n",
       "      <td>6</td>\n",
       "      <td>1</td>\n",
       "      <td>ALPHABET CITY</td>\n",
       "      <td>07 RENTALS - WALKUP APARTMENTS</td>\n",
       "      <td>2</td>\n",
       "      <td>399</td>\n",
       "      <td>39</td>\n",
       "      <td></td>\n",
       "      <td>C7</td>\n",
       "      <td>197 EAST 3RD   STREET</td>\n",
       "      <td></td>\n",
       "      <td>...</td>\n",
       "      <td>16</td>\n",
       "      <td>1</td>\n",
       "      <td>17</td>\n",
       "      <td>2212.0</td>\n",
       "      <td>7803.0</td>\n",
       "      <td>1900</td>\n",
       "      <td>2</td>\n",
       "      <td>C7</td>\n",
       "      <td>NaN</td>\n",
       "      <td>2016-12-09 00:00:00</td>\n",
       "    </tr>\n",
       "  </tbody>\n",
       "</table>\n",
       "<p>3 rows × 21 columns</p>\n",
       "</div>"
      ],
      "text/plain": [
       "   BOROUGH   NEIGHBORHOOD                      BUILDING CLASS CATEGORY  \\\n",
       "4        1  ALPHABET CITY  07 RENTALS - WALKUP APARTMENTS                \n",
       "5        1  ALPHABET CITY  07 RENTALS - WALKUP APARTMENTS                \n",
       "6        1  ALPHABET CITY  07 RENTALS - WALKUP APARTMENTS                \n",
       "\n",
       "  TAX CLASS AT PRESENT  BLOCK  LOT EASE-MENT BUILDING CLASS AT PRESENT  \\\n",
       "4                   2A    392    6                                  C2   \n",
       "5                    2    399   26                                  C7   \n",
       "6                    2    399   39                                  C7   \n",
       "\n",
       "                 ADDRESS APARTMENT NUMBER  ...  RESIDENTIAL UNITS  \\\n",
       "4           153 AVENUE B                   ...                  5   \n",
       "5  234 EAST 4TH   STREET                   ...                 28   \n",
       "6  197 EAST 3RD   STREET                   ...                 16   \n",
       "\n",
       "   COMMERCIAL UNITS  TOTAL UNITS  LAND SQUARE FEET  GROSS SQUARE FEET  \\\n",
       "4                 0            5            1633.0             6440.0   \n",
       "5                 3           31            4616.0            18690.0   \n",
       "6                 1           17            2212.0             7803.0   \n",
       "\n",
       "   YEAR BUILT  TAX CLASS AT TIME OF SALE  BUILDING CLASS AT TIME OF SALE  \\\n",
       "4        1900                          2                              C2   \n",
       "5        1900                          2                              C7   \n",
       "6        1900                          2                              C7   \n",
       "\n",
       "  SALE PRICE            SALE DATE  \n",
       "4  6625000.0  2017-07-19 00:00:00  \n",
       "5        NaN  2016-12-14 00:00:00  \n",
       "6        NaN  2016-12-09 00:00:00  \n",
       "\n",
       "[3 rows x 21 columns]"
      ]
     },
     "execution_count": 11,
     "metadata": {},
     "output_type": "execute_result"
    }
   ],
   "source": [
    "data.head(3)"
   ]
  },
  {
   "cell_type": "code",
   "execution_count": 12,
   "metadata": {},
   "outputs": [
    {
     "data": {
      "text/plain": [
       "SALE PRICE           float64\n",
       "GROSS SQUARE FEET    float64\n",
       "LAND SQUARE FEET     float64\n",
       "dtype: object"
      ]
     },
     "execution_count": 12,
     "metadata": {},
     "output_type": "execute_result"
    }
   ],
   "source": [
    "data[['SALE PRICE','GROSS SQUARE FEET','LAND SQUARE FEET']].dtypes"
   ]
  },
  {
   "cell_type": "code",
   "execution_count": 13,
   "metadata": {},
   "outputs": [],
   "source": [
    "data['SALE PRICE'] = data['SALE PRICE'].fillna(0)\n",
    "data['LAND SQUARE FEET'] = data['LAND SQUARE FEET'].fillna(0)\n",
    "data['GROSS SQUARE FEET'] = data['GROSS SQUARE FEET'].fillna(0)"
   ]
  },
  {
   "cell_type": "code",
   "execution_count": 14,
   "metadata": {},
   "outputs": [
    {
     "data": {
      "text/html": [
       "<div>\n",
       "<style scoped>\n",
       "    .dataframe tbody tr th:only-of-type {\n",
       "        vertical-align: middle;\n",
       "    }\n",
       "\n",
       "    .dataframe tbody tr th {\n",
       "        vertical-align: top;\n",
       "    }\n",
       "\n",
       "    .dataframe thead th {\n",
       "        text-align: right;\n",
       "    }\n",
       "</style>\n",
       "<table border=\"1\" class=\"dataframe\">\n",
       "  <thead>\n",
       "    <tr style=\"text-align: right;\">\n",
       "      <th></th>\n",
       "      <th>BOROUGH</th>\n",
       "      <th>NEIGHBORHOOD</th>\n",
       "      <th>BUILDING CLASS CATEGORY</th>\n",
       "      <th>TAX CLASS AT PRESENT</th>\n",
       "      <th>BLOCK</th>\n",
       "      <th>LOT</th>\n",
       "      <th>EASE-MENT</th>\n",
       "      <th>BUILDING CLASS AT PRESENT</th>\n",
       "      <th>ADDRESS</th>\n",
       "      <th>APARTMENT NUMBER</th>\n",
       "      <th>...</th>\n",
       "      <th>RESIDENTIAL UNITS</th>\n",
       "      <th>COMMERCIAL UNITS</th>\n",
       "      <th>TOTAL UNITS</th>\n",
       "      <th>LAND SQUARE FEET</th>\n",
       "      <th>GROSS SQUARE FEET</th>\n",
       "      <th>YEAR BUILT</th>\n",
       "      <th>TAX CLASS AT TIME OF SALE</th>\n",
       "      <th>BUILDING CLASS AT TIME OF SALE</th>\n",
       "      <th>SALE PRICE</th>\n",
       "      <th>SALE DATE</th>\n",
       "    </tr>\n",
       "  </thead>\n",
       "  <tbody>\n",
       "    <tr>\n",
       "      <td>4</td>\n",
       "      <td>1</td>\n",
       "      <td>ALPHABET CITY</td>\n",
       "      <td>07 RENTALS - WALKUP APARTMENTS</td>\n",
       "      <td>2A</td>\n",
       "      <td>392</td>\n",
       "      <td>6</td>\n",
       "      <td></td>\n",
       "      <td>C2</td>\n",
       "      <td>153 AVENUE B</td>\n",
       "      <td></td>\n",
       "      <td>...</td>\n",
       "      <td>5</td>\n",
       "      <td>0</td>\n",
       "      <td>5</td>\n",
       "      <td>1633.0</td>\n",
       "      <td>6440.0</td>\n",
       "      <td>1900</td>\n",
       "      <td>2</td>\n",
       "      <td>C2</td>\n",
       "      <td>6625000.0</td>\n",
       "      <td>2017-07-19 00:00:00</td>\n",
       "    </tr>\n",
       "    <tr>\n",
       "      <td>5</td>\n",
       "      <td>1</td>\n",
       "      <td>ALPHABET CITY</td>\n",
       "      <td>07 RENTALS - WALKUP APARTMENTS</td>\n",
       "      <td>2</td>\n",
       "      <td>399</td>\n",
       "      <td>26</td>\n",
       "      <td></td>\n",
       "      <td>C7</td>\n",
       "      <td>234 EAST 4TH   STREET</td>\n",
       "      <td></td>\n",
       "      <td>...</td>\n",
       "      <td>28</td>\n",
       "      <td>3</td>\n",
       "      <td>31</td>\n",
       "      <td>4616.0</td>\n",
       "      <td>18690.0</td>\n",
       "      <td>1900</td>\n",
       "      <td>2</td>\n",
       "      <td>C7</td>\n",
       "      <td>0.0</td>\n",
       "      <td>2016-12-14 00:00:00</td>\n",
       "    </tr>\n",
       "    <tr>\n",
       "      <td>6</td>\n",
       "      <td>1</td>\n",
       "      <td>ALPHABET CITY</td>\n",
       "      <td>07 RENTALS - WALKUP APARTMENTS</td>\n",
       "      <td>2</td>\n",
       "      <td>399</td>\n",
       "      <td>39</td>\n",
       "      <td></td>\n",
       "      <td>C7</td>\n",
       "      <td>197 EAST 3RD   STREET</td>\n",
       "      <td></td>\n",
       "      <td>...</td>\n",
       "      <td>16</td>\n",
       "      <td>1</td>\n",
       "      <td>17</td>\n",
       "      <td>2212.0</td>\n",
       "      <td>7803.0</td>\n",
       "      <td>1900</td>\n",
       "      <td>2</td>\n",
       "      <td>C7</td>\n",
       "      <td>0.0</td>\n",
       "      <td>2016-12-09 00:00:00</td>\n",
       "    </tr>\n",
       "  </tbody>\n",
       "</table>\n",
       "<p>3 rows × 21 columns</p>\n",
       "</div>"
      ],
      "text/plain": [
       "   BOROUGH   NEIGHBORHOOD                      BUILDING CLASS CATEGORY  \\\n",
       "4        1  ALPHABET CITY  07 RENTALS - WALKUP APARTMENTS                \n",
       "5        1  ALPHABET CITY  07 RENTALS - WALKUP APARTMENTS                \n",
       "6        1  ALPHABET CITY  07 RENTALS - WALKUP APARTMENTS                \n",
       "\n",
       "  TAX CLASS AT PRESENT  BLOCK  LOT EASE-MENT BUILDING CLASS AT PRESENT  \\\n",
       "4                   2A    392    6                                  C2   \n",
       "5                    2    399   26                                  C7   \n",
       "6                    2    399   39                                  C7   \n",
       "\n",
       "                 ADDRESS APARTMENT NUMBER  ...  RESIDENTIAL UNITS  \\\n",
       "4           153 AVENUE B                   ...                  5   \n",
       "5  234 EAST 4TH   STREET                   ...                 28   \n",
       "6  197 EAST 3RD   STREET                   ...                 16   \n",
       "\n",
       "   COMMERCIAL UNITS  TOTAL UNITS  LAND SQUARE FEET  GROSS SQUARE FEET  \\\n",
       "4                 0            5            1633.0             6440.0   \n",
       "5                 3           31            4616.0            18690.0   \n",
       "6                 1           17            2212.0             7803.0   \n",
       "\n",
       "   YEAR BUILT  TAX CLASS AT TIME OF SALE  BUILDING CLASS AT TIME OF SALE  \\\n",
       "4        1900                          2                              C2   \n",
       "5        1900                          2                              C7   \n",
       "6        1900                          2                              C7   \n",
       "\n",
       "  SALE PRICE            SALE DATE  \n",
       "4  6625000.0  2017-07-19 00:00:00  \n",
       "5        0.0  2016-12-14 00:00:00  \n",
       "6        0.0  2016-12-09 00:00:00  \n",
       "\n",
       "[3 rows x 21 columns]"
      ]
     },
     "execution_count": 14,
     "metadata": {},
     "output_type": "execute_result"
    }
   ],
   "source": [
    "data.head(3)"
   ]
  },
  {
   "cell_type": "code",
   "execution_count": 15,
   "metadata": {},
   "outputs": [
    {
     "name": "stdout",
     "output_type": "stream",
     "text": [
      "<class 'pandas.core.frame.DataFrame'>\n",
      "Int64Index: 84548 entries, 4 to 8413\n",
      "Data columns (total 21 columns):\n",
      "BOROUGH                           84548 non-null int64\n",
      "NEIGHBORHOOD                      84548 non-null object\n",
      "BUILDING CLASS CATEGORY           84548 non-null object\n",
      "TAX CLASS AT PRESENT              84548 non-null object\n",
      "BLOCK                             84548 non-null int64\n",
      "LOT                               84548 non-null int64\n",
      "EASE-MENT                         84548 non-null object\n",
      "BUILDING CLASS AT PRESENT         84548 non-null object\n",
      "ADDRESS                           84548 non-null object\n",
      "APARTMENT NUMBER                  84548 non-null object\n",
      "ZIP CODE                          84548 non-null int64\n",
      "RESIDENTIAL UNITS                 84548 non-null int64\n",
      "COMMERCIAL UNITS                  84548 non-null int64\n",
      "TOTAL UNITS                       84548 non-null int64\n",
      "LAND SQUARE FEET                  84548 non-null float64\n",
      "GROSS SQUARE FEET                 84548 non-null float64\n",
      "YEAR BUILT                        84548 non-null int64\n",
      "TAX CLASS AT TIME OF SALE         84548 non-null int64\n",
      "BUILDING CLASS AT TIME OF SALE    84548 non-null object\n",
      "SALE PRICE                        84548 non-null float64\n",
      "SALE DATE                         84548 non-null object\n",
      "dtypes: float64(3), int64(9), object(9)\n",
      "memory usage: 14.2+ MB\n"
     ]
    }
   ],
   "source": [
    "data.info()"
   ]
  },
  {
   "cell_type": "code",
   "execution_count": 16,
   "metadata": {},
   "outputs": [],
   "source": [
    "data = data[data['SALE PRICE'] > 10000]"
   ]
  },
  {
   "cell_type": "code",
   "execution_count": 17,
   "metadata": {},
   "outputs": [
    {
     "data": {
      "text/html": [
       "<div>\n",
       "<style scoped>\n",
       "    .dataframe tbody tr th:only-of-type {\n",
       "        vertical-align: middle;\n",
       "    }\n",
       "\n",
       "    .dataframe tbody tr th {\n",
       "        vertical-align: top;\n",
       "    }\n",
       "\n",
       "    .dataframe thead th {\n",
       "        text-align: right;\n",
       "    }\n",
       "</style>\n",
       "<table border=\"1\" class=\"dataframe\">\n",
       "  <thead>\n",
       "    <tr style=\"text-align: right;\">\n",
       "      <th></th>\n",
       "      <th>BOROUGH</th>\n",
       "      <th>BLOCK</th>\n",
       "      <th>LOT</th>\n",
       "      <th>ZIP CODE</th>\n",
       "      <th>RESIDENTIAL UNITS</th>\n",
       "      <th>COMMERCIAL UNITS</th>\n",
       "      <th>TOTAL UNITS</th>\n",
       "      <th>LAND SQUARE FEET</th>\n",
       "      <th>GROSS SQUARE FEET</th>\n",
       "      <th>YEAR BUILT</th>\n",
       "      <th>TAX CLASS AT TIME OF SALE</th>\n",
       "      <th>SALE PRICE</th>\n",
       "    </tr>\n",
       "  </thead>\n",
       "  <tbody>\n",
       "    <tr>\n",
       "      <td>count</td>\n",
       "      <td>58400.000000</td>\n",
       "      <td>58400.000000</td>\n",
       "      <td>58400.000000</td>\n",
       "      <td>58400.000000</td>\n",
       "      <td>58400.000000</td>\n",
       "      <td>58400.000000</td>\n",
       "      <td>58400.000000</td>\n",
       "      <td>5.840000e+04</td>\n",
       "      <td>5.840000e+04</td>\n",
       "      <td>58400.000000</td>\n",
       "      <td>58400.000000</td>\n",
       "      <td>5.840000e+04</td>\n",
       "    </tr>\n",
       "    <tr>\n",
       "      <td>mean</td>\n",
       "      <td>2.934760</td>\n",
       "      <td>4136.943459</td>\n",
       "      <td>391.636267</td>\n",
       "      <td>10708.021370</td>\n",
       "      <td>1.707021</td>\n",
       "      <td>0.164229</td>\n",
       "      <td>1.882175</td>\n",
       "      <td>2.381522e+03</td>\n",
       "      <td>2.226362e+03</td>\n",
       "      <td>1812.706216</td>\n",
       "      <td>1.629932</td>\n",
       "      <td>1.529690e+06</td>\n",
       "    </tr>\n",
       "    <tr>\n",
       "      <td>std</td>\n",
       "      <td>1.329816</td>\n",
       "      <td>3565.035239</td>\n",
       "      <td>670.468538</td>\n",
       "      <td>1246.413791</td>\n",
       "      <td>14.195353</td>\n",
       "      <td>9.934607</td>\n",
       "      <td>17.433206</td>\n",
       "      <td>3.551640e+04</td>\n",
       "      <td>2.389060e+04</td>\n",
       "      <td>501.550241</td>\n",
       "      <td>0.697483</td>\n",
       "      <td>1.247003e+07</td>\n",
       "    </tr>\n",
       "    <tr>\n",
       "      <td>min</td>\n",
       "      <td>1.000000</td>\n",
       "      <td>1.000000</td>\n",
       "      <td>1.000000</td>\n",
       "      <td>0.000000</td>\n",
       "      <td>0.000000</td>\n",
       "      <td>0.000000</td>\n",
       "      <td>0.000000</td>\n",
       "      <td>0.000000e+00</td>\n",
       "      <td>0.000000e+00</td>\n",
       "      <td>0.000000</td>\n",
       "      <td>1.000000</td>\n",
       "      <td>1.000100e+04</td>\n",
       "    </tr>\n",
       "    <tr>\n",
       "      <td>25%</td>\n",
       "      <td>2.000000</td>\n",
       "      <td>1271.000000</td>\n",
       "      <td>21.000000</td>\n",
       "      <td>10280.000000</td>\n",
       "      <td>0.000000</td>\n",
       "      <td>0.000000</td>\n",
       "      <td>0.000000</td>\n",
       "      <td>0.000000e+00</td>\n",
       "      <td>0.000000e+00</td>\n",
       "      <td>1920.000000</td>\n",
       "      <td>1.000000</td>\n",
       "      <td>3.893202e+05</td>\n",
       "    </tr>\n",
       "    <tr>\n",
       "      <td>50%</td>\n",
       "      <td>3.000000</td>\n",
       "      <td>3145.000000</td>\n",
       "      <td>50.000000</td>\n",
       "      <td>11206.000000</td>\n",
       "      <td>1.000000</td>\n",
       "      <td>0.000000</td>\n",
       "      <td>1.000000</td>\n",
       "      <td>7.080000e+02</td>\n",
       "      <td>0.000000e+00</td>\n",
       "      <td>1940.000000</td>\n",
       "      <td>2.000000</td>\n",
       "      <td>6.400000e+05</td>\n",
       "    </tr>\n",
       "    <tr>\n",
       "      <td>75%</td>\n",
       "      <td>4.000000</td>\n",
       "      <td>6092.000000</td>\n",
       "      <td>1002.000000</td>\n",
       "      <td>11357.000000</td>\n",
       "      <td>1.000000</td>\n",
       "      <td>0.000000</td>\n",
       "      <td>2.000000</td>\n",
       "      <td>2.500000e+03</td>\n",
       "      <td>1.836000e+03</td>\n",
       "      <td>1966.000000</td>\n",
       "      <td>2.000000</td>\n",
       "      <td>1.100000e+06</td>\n",
       "    </tr>\n",
       "    <tr>\n",
       "      <td>max</td>\n",
       "      <td>5.000000</td>\n",
       "      <td>16319.000000</td>\n",
       "      <td>9106.000000</td>\n",
       "      <td>11694.000000</td>\n",
       "      <td>1844.000000</td>\n",
       "      <td>2261.000000</td>\n",
       "      <td>2261.000000</td>\n",
       "      <td>4.252327e+06</td>\n",
       "      <td>3.750565e+06</td>\n",
       "      <td>2017.000000</td>\n",
       "      <td>4.000000</td>\n",
       "      <td>2.210000e+09</td>\n",
       "    </tr>\n",
       "  </tbody>\n",
       "</table>\n",
       "</div>"
      ],
      "text/plain": [
       "            BOROUGH         BLOCK           LOT      ZIP CODE  \\\n",
       "count  58400.000000  58400.000000  58400.000000  58400.000000   \n",
       "mean       2.934760   4136.943459    391.636267  10708.021370   \n",
       "std        1.329816   3565.035239    670.468538   1246.413791   \n",
       "min        1.000000      1.000000      1.000000      0.000000   \n",
       "25%        2.000000   1271.000000     21.000000  10280.000000   \n",
       "50%        3.000000   3145.000000     50.000000  11206.000000   \n",
       "75%        4.000000   6092.000000   1002.000000  11357.000000   \n",
       "max        5.000000  16319.000000   9106.000000  11694.000000   \n",
       "\n",
       "       RESIDENTIAL UNITS  COMMERCIAL UNITS   TOTAL UNITS  LAND SQUARE FEET  \\\n",
       "count       58400.000000      58400.000000  58400.000000      5.840000e+04   \n",
       "mean            1.707021          0.164229      1.882175      2.381522e+03   \n",
       "std            14.195353          9.934607     17.433206      3.551640e+04   \n",
       "min             0.000000          0.000000      0.000000      0.000000e+00   \n",
       "25%             0.000000          0.000000      0.000000      0.000000e+00   \n",
       "50%             1.000000          0.000000      1.000000      7.080000e+02   \n",
       "75%             1.000000          0.000000      2.000000      2.500000e+03   \n",
       "max          1844.000000       2261.000000   2261.000000      4.252327e+06   \n",
       "\n",
       "       GROSS SQUARE FEET    YEAR BUILT  TAX CLASS AT TIME OF SALE  \\\n",
       "count       5.840000e+04  58400.000000               58400.000000   \n",
       "mean        2.226362e+03   1812.706216                   1.629932   \n",
       "std         2.389060e+04    501.550241                   0.697483   \n",
       "min         0.000000e+00      0.000000                   1.000000   \n",
       "25%         0.000000e+00   1920.000000                   1.000000   \n",
       "50%         0.000000e+00   1940.000000                   2.000000   \n",
       "75%         1.836000e+03   1966.000000                   2.000000   \n",
       "max         3.750565e+06   2017.000000                   4.000000   \n",
       "\n",
       "         SALE PRICE  \n",
       "count  5.840000e+04  \n",
       "mean   1.529690e+06  \n",
       "std    1.247003e+07  \n",
       "min    1.000100e+04  \n",
       "25%    3.893202e+05  \n",
       "50%    6.400000e+05  \n",
       "75%    1.100000e+06  \n",
       "max    2.210000e+09  "
      ]
     },
     "execution_count": 17,
     "metadata": {},
     "output_type": "execute_result"
    }
   ],
   "source": [
    "data.describe()"
   ]
  },
  {
   "cell_type": "code",
   "execution_count": 18,
   "metadata": {},
   "outputs": [
    {
     "data": {
      "text/html": [
       "<div>\n",
       "<style scoped>\n",
       "    .dataframe tbody tr th:only-of-type {\n",
       "        vertical-align: middle;\n",
       "    }\n",
       "\n",
       "    .dataframe tbody tr th {\n",
       "        vertical-align: top;\n",
       "    }\n",
       "\n",
       "    .dataframe thead th {\n",
       "        text-align: right;\n",
       "    }\n",
       "</style>\n",
       "<table border=\"1\" class=\"dataframe\">\n",
       "  <thead>\n",
       "    <tr style=\"text-align: right;\">\n",
       "      <th></th>\n",
       "      <th>BOROUGH</th>\n",
       "      <th>NEIGHBORHOOD</th>\n",
       "      <th>BUILDING CLASS CATEGORY</th>\n",
       "      <th>TAX CLASS AT PRESENT</th>\n",
       "      <th>BLOCK</th>\n",
       "      <th>LOT</th>\n",
       "      <th>EASE-MENT</th>\n",
       "      <th>BUILDING CLASS AT PRESENT</th>\n",
       "      <th>ADDRESS</th>\n",
       "      <th>APARTMENT NUMBER</th>\n",
       "      <th>...</th>\n",
       "      <th>RESIDENTIAL UNITS</th>\n",
       "      <th>COMMERCIAL UNITS</th>\n",
       "      <th>TOTAL UNITS</th>\n",
       "      <th>LAND SQUARE FEET</th>\n",
       "      <th>GROSS SQUARE FEET</th>\n",
       "      <th>YEAR BUILT</th>\n",
       "      <th>TAX CLASS AT TIME OF SALE</th>\n",
       "      <th>BUILDING CLASS AT TIME OF SALE</th>\n",
       "      <th>SALE PRICE</th>\n",
       "      <th>SALE DATE</th>\n",
       "    </tr>\n",
       "  </thead>\n",
       "  <tbody>\n",
       "    <tr>\n",
       "      <td>4</td>\n",
       "      <td>1</td>\n",
       "      <td>ALPHABET CITY</td>\n",
       "      <td>07 RENTALS - WALKUP APARTMENTS</td>\n",
       "      <td>2A</td>\n",
       "      <td>392</td>\n",
       "      <td>6</td>\n",
       "      <td></td>\n",
       "      <td>C2</td>\n",
       "      <td>153 AVENUE B</td>\n",
       "      <td></td>\n",
       "      <td>...</td>\n",
       "      <td>5</td>\n",
       "      <td>0</td>\n",
       "      <td>5</td>\n",
       "      <td>1633.0</td>\n",
       "      <td>6440.0</td>\n",
       "      <td>1900</td>\n",
       "      <td>2</td>\n",
       "      <td>C2</td>\n",
       "      <td>6625000.0</td>\n",
       "      <td>2017-07-19 00:00:00</td>\n",
       "    </tr>\n",
       "    <tr>\n",
       "      <td>7</td>\n",
       "      <td>1</td>\n",
       "      <td>ALPHABET CITY</td>\n",
       "      <td>07 RENTALS - WALKUP APARTMENTS</td>\n",
       "      <td>2B</td>\n",
       "      <td>402</td>\n",
       "      <td>21</td>\n",
       "      <td></td>\n",
       "      <td>C4</td>\n",
       "      <td>154 EAST 7TH STREET</td>\n",
       "      <td></td>\n",
       "      <td>...</td>\n",
       "      <td>10</td>\n",
       "      <td>0</td>\n",
       "      <td>10</td>\n",
       "      <td>2272.0</td>\n",
       "      <td>6794.0</td>\n",
       "      <td>1913</td>\n",
       "      <td>2</td>\n",
       "      <td>C4</td>\n",
       "      <td>3936272.0</td>\n",
       "      <td>2016-09-23 00:00:00</td>\n",
       "    </tr>\n",
       "    <tr>\n",
       "      <td>8</td>\n",
       "      <td>1</td>\n",
       "      <td>ALPHABET CITY</td>\n",
       "      <td>07 RENTALS - WALKUP APARTMENTS</td>\n",
       "      <td>2A</td>\n",
       "      <td>404</td>\n",
       "      <td>55</td>\n",
       "      <td></td>\n",
       "      <td>C2</td>\n",
       "      <td>301 EAST 10TH   STREET</td>\n",
       "      <td></td>\n",
       "      <td>...</td>\n",
       "      <td>6</td>\n",
       "      <td>0</td>\n",
       "      <td>6</td>\n",
       "      <td>2369.0</td>\n",
       "      <td>4615.0</td>\n",
       "      <td>1900</td>\n",
       "      <td>2</td>\n",
       "      <td>C2</td>\n",
       "      <td>8000000.0</td>\n",
       "      <td>2016-11-17 00:00:00</td>\n",
       "    </tr>\n",
       "  </tbody>\n",
       "</table>\n",
       "<p>3 rows × 21 columns</p>\n",
       "</div>"
      ],
      "text/plain": [
       "   BOROUGH   NEIGHBORHOOD                      BUILDING CLASS CATEGORY  \\\n",
       "4        1  ALPHABET CITY  07 RENTALS - WALKUP APARTMENTS                \n",
       "7        1  ALPHABET CITY  07 RENTALS - WALKUP APARTMENTS                \n",
       "8        1  ALPHABET CITY  07 RENTALS - WALKUP APARTMENTS                \n",
       "\n",
       "  TAX CLASS AT PRESENT  BLOCK  LOT EASE-MENT BUILDING CLASS AT PRESENT  \\\n",
       "4                   2A    392    6                                  C2   \n",
       "7                   2B    402   21                                  C4   \n",
       "8                   2A    404   55                                  C2   \n",
       "\n",
       "                  ADDRESS APARTMENT NUMBER  ...  RESIDENTIAL UNITS  \\\n",
       "4            153 AVENUE B                   ...                  5   \n",
       "7     154 EAST 7TH STREET                   ...                 10   \n",
       "8  301 EAST 10TH   STREET                   ...                  6   \n",
       "\n",
       "   COMMERCIAL UNITS  TOTAL UNITS  LAND SQUARE FEET  GROSS SQUARE FEET  \\\n",
       "4                 0            5            1633.0             6440.0   \n",
       "7                 0           10            2272.0             6794.0   \n",
       "8                 0            6            2369.0             4615.0   \n",
       "\n",
       "   YEAR BUILT  TAX CLASS AT TIME OF SALE  BUILDING CLASS AT TIME OF SALE  \\\n",
       "4        1900                          2                              C2   \n",
       "7        1913                          2                              C4   \n",
       "8        1900                          2                              C2   \n",
       "\n",
       "  SALE PRICE            SALE DATE  \n",
       "4  6625000.0  2017-07-19 00:00:00  \n",
       "7  3936272.0  2016-09-23 00:00:00  \n",
       "8  8000000.0  2016-11-17 00:00:00  \n",
       "\n",
       "[3 rows x 21 columns]"
      ]
     },
     "execution_count": 18,
     "metadata": {},
     "output_type": "execute_result"
    }
   ],
   "source": [
    "data.head(3)"
   ]
  },
  {
   "cell_type": "code",
   "execution_count": 19,
   "metadata": {},
   "outputs": [],
   "source": [
    "data = data[data['LAND SQUARE FEET'] > 0]"
   ]
  },
  {
   "cell_type": "code",
   "execution_count": 20,
   "metadata": {},
   "outputs": [
    {
     "data": {
      "text/plain": [
       "count    2.935800e+04\n",
       "mean     4.737410e+03\n",
       "std      4.998132e+04\n",
       "min      3.300000e+01\n",
       "25%      2.000000e+03\n",
       "50%      2.500000e+03\n",
       "75%      4.000000e+03\n",
       "max      4.252327e+06\n",
       "Name: LAND SQUARE FEET, dtype: float64"
      ]
     },
     "execution_count": 20,
     "metadata": {},
     "output_type": "execute_result"
    }
   ],
   "source": [
    "data['LAND SQUARE FEET'].describe()"
   ]
  },
  {
   "cell_type": "code",
   "execution_count": 21,
   "metadata": {},
   "outputs": [],
   "source": [
    "data = data[data['GROSS SQUARE FEET'] > 0]"
   ]
  },
  {
   "cell_type": "code",
   "execution_count": 22,
   "metadata": {},
   "outputs": [
    {
     "data": {
      "text/plain": [
       "count    2.839000e+04\n",
       "mean     4.574490e+03\n",
       "std      3.410533e+04\n",
       "min      1.200000e+02\n",
       "25%      1.360000e+03\n",
       "50%      1.872000e+03\n",
       "75%      2.664000e+03\n",
       "max      3.750565e+06\n",
       "Name: GROSS SQUARE FEET, dtype: float64"
      ]
     },
     "execution_count": 22,
     "metadata": {},
     "output_type": "execute_result"
    }
   ],
   "source": [
    "data['GROSS SQUARE FEET'].describe()"
   ]
  },
  {
   "cell_type": "code",
   "execution_count": 23,
   "metadata": {},
   "outputs": [
    {
     "data": {
      "text/html": [
       "<div>\n",
       "<style scoped>\n",
       "    .dataframe tbody tr th:only-of-type {\n",
       "        vertical-align: middle;\n",
       "    }\n",
       "\n",
       "    .dataframe tbody tr th {\n",
       "        vertical-align: top;\n",
       "    }\n",
       "\n",
       "    .dataframe thead th {\n",
       "        text-align: right;\n",
       "    }\n",
       "</style>\n",
       "<table border=\"1\" class=\"dataframe\">\n",
       "  <thead>\n",
       "    <tr style=\"text-align: right;\">\n",
       "      <th></th>\n",
       "      <th>BOROUGH</th>\n",
       "      <th>BLOCK</th>\n",
       "      <th>LOT</th>\n",
       "      <th>ZIP CODE</th>\n",
       "      <th>RESIDENTIAL UNITS</th>\n",
       "      <th>COMMERCIAL UNITS</th>\n",
       "      <th>TOTAL UNITS</th>\n",
       "      <th>LAND SQUARE FEET</th>\n",
       "      <th>GROSS SQUARE FEET</th>\n",
       "      <th>YEAR BUILT</th>\n",
       "      <th>TAX CLASS AT TIME OF SALE</th>\n",
       "      <th>SALE PRICE</th>\n",
       "    </tr>\n",
       "  </thead>\n",
       "  <tbody>\n",
       "    <tr>\n",
       "      <td>count</td>\n",
       "      <td>28390.000000</td>\n",
       "      <td>28390.000000</td>\n",
       "      <td>28390.000000</td>\n",
       "      <td>28390.000000</td>\n",
       "      <td>28390.000000</td>\n",
       "      <td>28390.000000</td>\n",
       "      <td>28390.000000</td>\n",
       "      <td>2.839000e+04</td>\n",
       "      <td>2.839000e+04</td>\n",
       "      <td>28390.000000</td>\n",
       "      <td>28390.000000</td>\n",
       "      <td>2.839000e+04</td>\n",
       "    </tr>\n",
       "    <tr>\n",
       "      <td>mean</td>\n",
       "      <td>3.539380</td>\n",
       "      <td>5556.875238</td>\n",
       "      <td>61.811307</td>\n",
       "      <td>10994.364248</td>\n",
       "      <td>3.045579</td>\n",
       "      <td>0.334942</td>\n",
       "      <td>3.379077</td>\n",
       "      <td>4.265634e+03</td>\n",
       "      <td>4.574490e+03</td>\n",
       "      <td>1940.099789</td>\n",
       "      <td>1.231560</td>\n",
       "      <td>1.693364e+06</td>\n",
       "    </tr>\n",
       "    <tr>\n",
       "      <td>std</td>\n",
       "      <td>1.018299</td>\n",
       "      <td>3777.326557</td>\n",
       "      <td>125.476168</td>\n",
       "      <td>514.833148</td>\n",
       "      <td>20.245921</td>\n",
       "      <td>14.246616</td>\n",
       "      <td>24.893394</td>\n",
       "      <td>3.818404e+04</td>\n",
       "      <td>3.410533e+04</td>\n",
       "      <td>46.090898</td>\n",
       "      <td>0.691726</td>\n",
       "      <td>1.727152e+07</td>\n",
       "    </tr>\n",
       "    <tr>\n",
       "      <td>min</td>\n",
       "      <td>1.000000</td>\n",
       "      <td>5.000000</td>\n",
       "      <td>1.000000</td>\n",
       "      <td>0.000000</td>\n",
       "      <td>0.000000</td>\n",
       "      <td>0.000000</td>\n",
       "      <td>0.000000</td>\n",
       "      <td>2.000000e+02</td>\n",
       "      <td>1.200000e+02</td>\n",
       "      <td>0.000000</td>\n",
       "      <td>1.000000</td>\n",
       "      <td>1.000100e+04</td>\n",
       "    </tr>\n",
       "    <tr>\n",
       "      <td>25%</td>\n",
       "      <td>3.000000</td>\n",
       "      <td>2691.000000</td>\n",
       "      <td>19.000000</td>\n",
       "      <td>10462.000000</td>\n",
       "      <td>1.000000</td>\n",
       "      <td>0.000000</td>\n",
       "      <td>1.000000</td>\n",
       "      <td>2.000000e+03</td>\n",
       "      <td>1.360000e+03</td>\n",
       "      <td>1920.000000</td>\n",
       "      <td>1.000000</td>\n",
       "      <td>4.375000e+05</td>\n",
       "    </tr>\n",
       "    <tr>\n",
       "      <td>50%</td>\n",
       "      <td>4.000000</td>\n",
       "      <td>4921.500000</td>\n",
       "      <td>38.000000</td>\n",
       "      <td>11221.000000</td>\n",
       "      <td>2.000000</td>\n",
       "      <td>0.000000</td>\n",
       "      <td>2.000000</td>\n",
       "      <td>2.500000e+03</td>\n",
       "      <td>1.872000e+03</td>\n",
       "      <td>1930.000000</td>\n",
       "      <td>1.000000</td>\n",
       "      <td>6.350000e+05</td>\n",
       "    </tr>\n",
       "    <tr>\n",
       "      <td>75%</td>\n",
       "      <td>4.000000</td>\n",
       "      <td>7835.750000</td>\n",
       "      <td>64.000000</td>\n",
       "      <td>11373.000000</td>\n",
       "      <td>2.000000</td>\n",
       "      <td>0.000000</td>\n",
       "      <td>2.000000</td>\n",
       "      <td>4.000000e+03</td>\n",
       "      <td>2.664000e+03</td>\n",
       "      <td>1960.000000</td>\n",
       "      <td>1.000000</td>\n",
       "      <td>9.700000e+05</td>\n",
       "    </tr>\n",
       "    <tr>\n",
       "      <td>max</td>\n",
       "      <td>5.000000</td>\n",
       "      <td>16319.000000</td>\n",
       "      <td>7501.000000</td>\n",
       "      <td>11694.000000</td>\n",
       "      <td>1844.000000</td>\n",
       "      <td>2261.000000</td>\n",
       "      <td>2261.000000</td>\n",
       "      <td>4.228300e+06</td>\n",
       "      <td>3.750565e+06</td>\n",
       "      <td>2017.000000</td>\n",
       "      <td>4.000000</td>\n",
       "      <td>2.210000e+09</td>\n",
       "    </tr>\n",
       "  </tbody>\n",
       "</table>\n",
       "</div>"
      ],
      "text/plain": [
       "            BOROUGH         BLOCK           LOT      ZIP CODE  \\\n",
       "count  28390.000000  28390.000000  28390.000000  28390.000000   \n",
       "mean       3.539380   5556.875238     61.811307  10994.364248   \n",
       "std        1.018299   3777.326557    125.476168    514.833148   \n",
       "min        1.000000      5.000000      1.000000      0.000000   \n",
       "25%        3.000000   2691.000000     19.000000  10462.000000   \n",
       "50%        4.000000   4921.500000     38.000000  11221.000000   \n",
       "75%        4.000000   7835.750000     64.000000  11373.000000   \n",
       "max        5.000000  16319.000000   7501.000000  11694.000000   \n",
       "\n",
       "       RESIDENTIAL UNITS  COMMERCIAL UNITS   TOTAL UNITS  LAND SQUARE FEET  \\\n",
       "count       28390.000000      28390.000000  28390.000000      2.839000e+04   \n",
       "mean            3.045579          0.334942      3.379077      4.265634e+03   \n",
       "std            20.245921         14.246616     24.893394      3.818404e+04   \n",
       "min             0.000000          0.000000      0.000000      2.000000e+02   \n",
       "25%             1.000000          0.000000      1.000000      2.000000e+03   \n",
       "50%             2.000000          0.000000      2.000000      2.500000e+03   \n",
       "75%             2.000000          0.000000      2.000000      4.000000e+03   \n",
       "max          1844.000000       2261.000000   2261.000000      4.228300e+06   \n",
       "\n",
       "       GROSS SQUARE FEET    YEAR BUILT  TAX CLASS AT TIME OF SALE  \\\n",
       "count       2.839000e+04  28390.000000               28390.000000   \n",
       "mean        4.574490e+03   1940.099789                   1.231560   \n",
       "std         3.410533e+04     46.090898                   0.691726   \n",
       "min         1.200000e+02      0.000000                   1.000000   \n",
       "25%         1.360000e+03   1920.000000                   1.000000   \n",
       "50%         1.872000e+03   1930.000000                   1.000000   \n",
       "75%         2.664000e+03   1960.000000                   1.000000   \n",
       "max         3.750565e+06   2017.000000                   4.000000   \n",
       "\n",
       "         SALE PRICE  \n",
       "count  2.839000e+04  \n",
       "mean   1.693364e+06  \n",
       "std    1.727152e+07  \n",
       "min    1.000100e+04  \n",
       "25%    4.375000e+05  \n",
       "50%    6.350000e+05  \n",
       "75%    9.700000e+05  \n",
       "max    2.210000e+09  "
      ]
     },
     "execution_count": 23,
     "metadata": {},
     "output_type": "execute_result"
    }
   ],
   "source": [
    "data.describe()"
   ]
  },
  {
   "cell_type": "code",
   "execution_count": 24,
   "metadata": {},
   "outputs": [
    {
     "data": {
      "text/plain": [
       "<matplotlib.axes._subplots.AxesSubplot at 0x24d39d564c8>"
      ]
     },
     "execution_count": 24,
     "metadata": {},
     "output_type": "execute_result"
    },
    {
     "data": {
      "image/png": "[encoded data removed]",
      "text/plain": [
       "<Figure size 576x396 with 1 Axes>"
      ]
     },
     "metadata": {},
     "output_type": "display_data"
    }
   ],
   "source": [
    "sns.countplot(x='BOROUGH', data=data)"
   ]
  },
  {
   "cell_type": "code",
   "execution_count": 25,
   "metadata": {},
   "outputs": [
    {
     "data": {
      "text/plain": [
       "<matplotlib.collections.PathCollection at 0x24d39c09a08>"
      ]
     },
     "execution_count": 25,
     "metadata": {},
     "output_type": "execute_result"
    },
    {
     "data": {
      "image/png": "[encoded data removed]",
      "text/plain": [
       "<Figure size 576x396 with 1 Axes>"
      ]
     },
     "metadata": {},
     "output_type": "display_data"
    }
   ],
   "source": [
    "plt.scatter('BOROUGH', 'SALE PRICE', data =data)"
   ]
  },
  {
   "cell_type": "code",
   "execution_count": 26,
   "metadata": {},
   "outputs": [
    {
     "data": {
      "text/plain": [
       "3600000.0"
      ]
     },
     "execution_count": 26,
     "metadata": {},
     "output_type": "execute_result"
    }
   ],
   "source": [
    "np.percentile(data['SALE PRICE'], 95, axis=None, out=None)"
   ]
  },
  {
   "cell_type": "code",
   "execution_count": 27,
   "metadata": {},
   "outputs": [],
   "source": [
    "#sns.countplot(x='YEAR BUILT', data=data)"
   ]
  },
  {
   "cell_type": "code",
   "execution_count": 28,
   "metadata": {},
   "outputs": [],
   "source": [
    "#sns.countplot(x='LAND SQUARE FEET', data=data)"
   ]
  },
  {
   "cell_type": "code",
   "execution_count": 29,
   "metadata": {},
   "outputs": [
    {
     "data": {
      "text/plain": [
       "(array([1.35460330e-08, 1.96042129e-11, 4.78151534e-12, 1.43445460e-12,\n",
       "        4.78151534e-13, 0.00000000e+00, 0.00000000e+00, 4.78151534e-13,\n",
       "        9.56303069e-13, 0.00000000e+00, 0.00000000e+00, 0.00000000e+00,\n",
       "        0.00000000e+00, 0.00000000e+00, 4.78151534e-13, 0.00000000e+00,\n",
       "        0.00000000e+00, 0.00000000e+00, 0.00000000e+00, 0.00000000e+00,\n",
       "        0.00000000e+00, 0.00000000e+00, 0.00000000e+00, 0.00000000e+00,\n",
       "        0.00000000e+00, 0.00000000e+00, 0.00000000e+00, 0.00000000e+00,\n",
       "        0.00000000e+00, 4.78151534e-13]),\n",
       " array([1.00010000e+04, 7.36763343e+07, 1.47342668e+08, 2.21009001e+08,\n",
       "        2.94675334e+08, 3.68341668e+08, 4.42008001e+08, 5.15674334e+08,\n",
       "        5.89340667e+08, 6.63007001e+08, 7.36673334e+08, 8.10339667e+08,\n",
       "        8.84006001e+08, 9.57672334e+08, 1.03133867e+09, 1.10500500e+09,\n",
       "        1.17867133e+09, 1.25233767e+09, 1.32600400e+09, 1.39967033e+09,\n",
       "        1.47333667e+09, 1.54700300e+09, 1.62066933e+09, 1.69433567e+09,\n",
       "        1.76800200e+09, 1.84166833e+09, 1.91533467e+09, 1.98900100e+09,\n",
       "        2.06266733e+09, 2.13633367e+09, 2.21000000e+09]),\n",
       " <a list of 30 Patch objects>)"
      ]
     },
     "execution_count": 29,
     "metadata": {},
     "output_type": "execute_result"
    },
    {
     "data": {
      "image/png": "[encoded data removed]",
      "text/plain": [
       "<Figure size 576x396 with 1 Axes>"
      ]
     },
     "metadata": {},
     "output_type": "display_data"
    }
   ],
   "source": [
    "plt.hist(data['SALE PRICE'],bins=30, density=True, alpha=0.5)"
   ]
  },
  {
   "cell_type": "code",
   "execution_count": 30,
   "metadata": {},
   "outputs": [
    {
     "data": {
      "text/plain": [
       "<matplotlib.collections.PathCollection at 0x24d39d30b08>"
      ]
     },
     "execution_count": 30,
     "metadata": {},
     "output_type": "execute_result"
    },
    {
     "data": {
      "image/png": "[encoded data removed]",
      "text/plain": [
       "<Figure size 576x396 with 1 Axes>"
      ]
     },
     "metadata": {},
     "output_type": "display_data"
    }
   ],
   "source": [
    "plt.scatter( 'RESIDENTIAL UNITS','SALE PRICE', data =data)"
   ]
  },
  {
   "cell_type": "code",
   "execution_count": 31,
   "metadata": {},
   "outputs": [
    {
     "data": {
      "text/plain": [
       "<seaborn.axisgrid.FacetGrid at 0x24d3a3c10c8>"
      ]
     },
     "execution_count": 31,
     "metadata": {},
     "output_type": "execute_result"
    },
    {
     "data": {
      "image/png": "[encoded data removed]",
      "text/plain": [
       "<Figure size 360x360 with 1 Axes>"
      ]
     },
     "metadata": {},
     "output_type": "display_data"
    }
   ],
   "source": [
    "sns.catplot('SALE PRICE',data=data, kind = 'box')"
   ]
  },
  {
   "cell_type": "code",
   "execution_count": 32,
   "metadata": {},
   "outputs": [
    {
     "name": "stdout",
     "output_type": "stream",
     "text": [
      "BOROUGH                           1.00\n",
      "BLOCK                          5144.75\n",
      "LOT                              45.00\n",
      "ZIP CODE                        911.00\n",
      "RESIDENTIAL UNITS                 1.00\n",
      "COMMERCIAL UNITS                  0.00\n",
      "TOTAL UNITS                       1.00\n",
      "LAND SQUARE FEET               2000.00\n",
      "GROSS SQUARE FEET              1304.00\n",
      "YEAR BUILT                       40.00\n",
      "TAX CLASS AT TIME OF SALE         0.00\n",
      "SALE PRICE                   532500.00\n",
      "dtype: float64\n"
     ]
    }
   ],
   "source": [
    "Q1 = data.quantile(0.25)\n",
    "Q3 = data.quantile(0.75)\n",
    "IQR = Q3-Q1\n",
    "print(IQR)"
   ]
  },
  {
   "cell_type": "code",
   "execution_count": 33,
   "metadata": {},
   "outputs": [
    {
     "data": {
      "text/plain": [
       "{'whiskers': [<matplotlib.lines.Line2D at 0x24d3a474448>,\n",
       "  <matplotlib.lines.Line2D at 0x24d3a474c08>],\n",
       " 'caps': [<matplotlib.lines.Line2D at 0x24d3a474d08>,\n",
       "  <matplotlib.lines.Line2D at 0x24d3a479b88>],\n",
       " 'boxes': [<matplotlib.lines.Line2D at 0x24d3a470908>],\n",
       " 'medians': [<matplotlib.lines.Line2D at 0x24d3a479c88>],\n",
       " 'fliers': [<matplotlib.lines.Line2D at 0x24d3a47db08>],\n",
       " 'means': []}"
      ]
     },
     "execution_count": 33,
     "metadata": {},
     "output_type": "execute_result"
    },
    {
     "data": {
      "image/png": "[encoded data removed]",
      "text/plain": [
       "<Figure size 576x396 with 1 Axes>"
      ]
     },
     "metadata": {},
     "output_type": "display_data"
    }
   ],
   "source": [
    "plt.boxplot(data['SALE PRICE'])"
   ]
  },
  {
   "cell_type": "code",
   "execution_count": 34,
   "metadata": {},
   "outputs": [
    {
     "name": "stdout",
     "output_type": "stream",
     "text": [
      "220000.0\n",
      "3600000.0\n"
     ]
    }
   ],
   "source": [
    "print(data['SALE PRICE'].quantile(0.05))\n",
    "print(data['SALE PRICE'].quantile(0.95))"
   ]
  },
  {
   "cell_type": "code",
   "execution_count": 35,
   "metadata": {},
   "outputs": [],
   "source": [
    "data['SALE PRICE'] = np.where(data['SALE PRICE'] < 220000.0, 220000.0,data['SALE PRICE'])\n",
    "data['SALE PRICE'] = np.where(data['SALE PRICE'] > 3600000.0 , 3600000.0,data['SALE PRICE'])"
   ]
  },
  {
   "cell_type": "code",
   "execution_count": 36,
   "metadata": {},
   "outputs": [
    {
     "data": {
      "text/plain": [
       "{'whiskers': [<matplotlib.lines.Line2D at 0x24d3a4d57c8>,\n",
       "  <matplotlib.lines.Line2D at 0x24d3a4d5f88>],\n",
       " 'caps': [<matplotlib.lines.Line2D at 0x24d3a4da788>,\n",
       "  <matplotlib.lines.Line2D at 0x24d3a4daf08>],\n",
       " 'boxes': [<matplotlib.lines.Line2D at 0x24d3a4d2c88>],\n",
       " 'medians': [<matplotlib.lines.Line2D at 0x24d3a4df708>],\n",
       " 'fliers': [<matplotlib.lines.Line2D at 0x24d3a4dfe88>],\n",
       " 'means': []}"
      ]
     },
     "execution_count": 36,
     "metadata": {},
     "output_type": "execute_result"
    },
    {
     "data": {
      "image/png": "[encoded data removed]",
      "text/plain": [
       "<Figure size 576x396 with 1 Axes>"
      ]
     },
     "metadata": {},
     "output_type": "display_data"
    }
   ],
   "source": [
    "plt.boxplot(data['SALE PRICE'])"
   ]
  },
  {
   "cell_type": "code",
   "execution_count": 37,
   "metadata": {},
   "outputs": [
    {
     "data": {
      "text/plain": [
       "<seaborn.axisgrid.FacetGrid at 0x24d3a3f4b88>"
      ]
     },
     "execution_count": 37,
     "metadata": {},
     "output_type": "execute_result"
    },
    {
     "data": {
      "image/png": "[encoded data removed]",
      "text/plain": [
       "<Figure size 360x360 with 1 Axes>"
      ]
     },
     "metadata": {},
     "output_type": "display_data"
    }
   ],
   "source": [
    "sns.catplot('SALE PRICE',data=data, kind = 'box')"
   ]
  },
  {
   "cell_type": "code",
   "execution_count": 38,
   "metadata": {},
   "outputs": [
    {
     "data": {
      "text/plain": [
       "{'whiskers': [<matplotlib.lines.Line2D at 0x24d3a5706c8>,\n",
       "  <matplotlib.lines.Line2D at 0x24d3a570e88>],\n",
       " 'caps': [<matplotlib.lines.Line2D at 0x24d3a570f88>,\n",
       "  <matplotlib.lines.Line2D at 0x24d3a575e08>],\n",
       " 'boxes': [<matplotlib.lines.Line2D at 0x24d3a56cb88>],\n",
       " 'medians': [<matplotlib.lines.Line2D at 0x24d3a575f08>],\n",
       " 'fliers': [<matplotlib.lines.Line2D at 0x24d3a579d88>],\n",
       " 'means': []}"
      ]
     },
     "execution_count": 38,
     "metadata": {},
     "output_type": "execute_result"
    },
    {
     "data": {
      "image/png": "[encoded data removed]",
      "text/plain": [
       "<Figure size 576x396 with 1 Axes>"
      ]
     },
     "metadata": {},
     "output_type": "display_data"
    }
   ],
   "source": [
    "plt.boxplot(data['LOT'])"
   ]
  },
  {
   "cell_type": "code",
   "execution_count": 39,
   "metadata": {},
   "outputs": [
    {
     "name": "stdout",
     "output_type": "stream",
     "text": [
      "4.0\n",
      "173.0\n"
     ]
    }
   ],
   "source": [
    "print(data['LOT'].quantile(0.05))\n",
    "print(data['LOT'].quantile(0.95))"
   ]
  },
  {
   "cell_type": "code",
   "execution_count": 40,
   "metadata": {},
   "outputs": [
    {
     "data": {
      "text/plain": [
       "{'whiskers': [<matplotlib.lines.Line2D at 0x24d3a80bb48>,\n",
       "  <matplotlib.lines.Line2D at 0x24d3a80bc48>],\n",
       " 'caps': [<matplotlib.lines.Line2D at 0x24d3a80eb08>,\n",
       "  <matplotlib.lines.Line2D at 0x24d3a80ec08>],\n",
       " 'boxes': [<matplotlib.lines.Line2D at 0x24d3a806f48>],\n",
       " 'medians': [<matplotlib.lines.Line2D at 0x24d3a813a88>],\n",
       " 'fliers': [<matplotlib.lines.Line2D at 0x24d3a813b88>],\n",
       " 'means': []}"
      ]
     },
     "execution_count": 40,
     "metadata": {},
     "output_type": "execute_result"
    },
    {
     "data": {
      "image/png": "[encoded data removed]",
      "text/plain": [
       "<Figure size 576x396 with 1 Axes>"
      ]
     },
     "metadata": {},
     "output_type": "display_data"
    }
   ],
   "source": [
    "plt.boxplot(data['LAND SQUARE FEET'])"
   ]
  },
  {
   "cell_type": "code",
   "execution_count": 41,
   "metadata": {},
   "outputs": [
    {
     "name": "stdout",
     "output_type": "stream",
     "text": [
      "1462.0\n",
      "7500.0\n"
     ]
    }
   ],
   "source": [
    "print(data['LAND SQUARE FEET'].quantile(0.05))\n",
    "print(data['LAND SQUARE FEET'].quantile(0.95))"
   ]
  },
  {
   "cell_type": "code",
   "execution_count": 42,
   "metadata": {},
   "outputs": [],
   "source": [
    "data['LAND SQUARE FEET'] = np.where(data['LAND SQUARE FEET'] < 1462.0 , 1462.0,data['LAND SQUARE FEET'])\n",
    "data['LAND SQUARE FEET'] = np.where(data['LAND SQUARE FEET'] > 7500.0 , 7500.0,data['LAND SQUARE FEET'])"
   ]
  },
  {
   "cell_type": "code",
   "execution_count": 43,
   "metadata": {},
   "outputs": [
    {
     "data": {
      "text/plain": [
       "{'whiskers': [<matplotlib.lines.Line2D at 0x24d3a86ef48>,\n",
       "  <matplotlib.lines.Line2D at 0x24d3a873748>],\n",
       " 'caps': [<matplotlib.lines.Line2D at 0x24d3a873f08>,\n",
       "  <matplotlib.lines.Line2D at 0x24d3a8776c8>],\n",
       " 'boxes': [<matplotlib.lines.Line2D at 0x24d3a86e448>],\n",
       " 'medians': [<matplotlib.lines.Line2D at 0x24d3a877e08>],\n",
       " 'fliers': [<matplotlib.lines.Line2D at 0x24d3a83b9c8>],\n",
       " 'means': []}"
      ]
     },
     "execution_count": 43,
     "metadata": {},
     "output_type": "execute_result"
    },
    {
     "data": {
      "image/png": "[encoded data removed]",
      "text/plain": [
       "<Figure size 576x396 with 1 Axes>"
      ]
     },
     "metadata": {},
     "output_type": "display_data"
    }
   ],
   "source": [
    "plt.boxplot(data['LAND SQUARE FEET'])"
   ]
  },
  {
   "cell_type": "code",
   "execution_count": 44,
   "metadata": {},
   "outputs": [
    {
     "data": {
      "text/html": [
       "<div>\n",
       "<style scoped>\n",
       "    .dataframe tbody tr th:only-of-type {\n",
       "        vertical-align: middle;\n",
       "    }\n",
       "\n",
       "    .dataframe tbody tr th {\n",
       "        vertical-align: top;\n",
       "    }\n",
       "\n",
       "    .dataframe thead th {\n",
       "        text-align: right;\n",
       "    }\n",
       "</style>\n",
       "<table border=\"1\" class=\"dataframe\">\n",
       "  <thead>\n",
       "    <tr style=\"text-align: right;\">\n",
       "      <th></th>\n",
       "      <th>BOROUGH</th>\n",
       "      <th>NEIGHBORHOOD</th>\n",
       "      <th>BUILDING CLASS CATEGORY</th>\n",
       "      <th>TAX CLASS AT PRESENT</th>\n",
       "      <th>BLOCK</th>\n",
       "      <th>LOT</th>\n",
       "      <th>EASE-MENT</th>\n",
       "      <th>BUILDING CLASS AT PRESENT</th>\n",
       "      <th>ADDRESS</th>\n",
       "      <th>APARTMENT NUMBER</th>\n",
       "      <th>...</th>\n",
       "      <th>RESIDENTIAL UNITS</th>\n",
       "      <th>COMMERCIAL UNITS</th>\n",
       "      <th>TOTAL UNITS</th>\n",
       "      <th>LAND SQUARE FEET</th>\n",
       "      <th>GROSS SQUARE FEET</th>\n",
       "      <th>YEAR BUILT</th>\n",
       "      <th>TAX CLASS AT TIME OF SALE</th>\n",
       "      <th>BUILDING CLASS AT TIME OF SALE</th>\n",
       "      <th>SALE PRICE</th>\n",
       "      <th>SALE DATE</th>\n",
       "    </tr>\n",
       "  </thead>\n",
       "  <tbody>\n",
       "    <tr>\n",
       "      <td>4</td>\n",
       "      <td>1</td>\n",
       "      <td>ALPHABET CITY</td>\n",
       "      <td>07 RENTALS - WALKUP APARTMENTS</td>\n",
       "      <td>2A</td>\n",
       "      <td>392</td>\n",
       "      <td>6</td>\n",
       "      <td></td>\n",
       "      <td>C2</td>\n",
       "      <td>153 AVENUE B</td>\n",
       "      <td></td>\n",
       "      <td>...</td>\n",
       "      <td>5</td>\n",
       "      <td>0</td>\n",
       "      <td>5</td>\n",
       "      <td>1633.0</td>\n",
       "      <td>6440.0</td>\n",
       "      <td>1900</td>\n",
       "      <td>2</td>\n",
       "      <td>C2</td>\n",
       "      <td>3600000.0</td>\n",
       "      <td>2017-07-19 00:00:00</td>\n",
       "    </tr>\n",
       "  </tbody>\n",
       "</table>\n",
       "<p>1 rows × 21 columns</p>\n",
       "</div>"
      ],
      "text/plain": [
       "   BOROUGH   NEIGHBORHOOD                      BUILDING CLASS CATEGORY  \\\n",
       "4        1  ALPHABET CITY  07 RENTALS - WALKUP APARTMENTS                \n",
       "\n",
       "  TAX CLASS AT PRESENT  BLOCK  LOT EASE-MENT BUILDING CLASS AT PRESENT  \\\n",
       "4                   2A    392    6                                  C2   \n",
       "\n",
       "        ADDRESS APARTMENT NUMBER  ...  RESIDENTIAL UNITS  COMMERCIAL UNITS  \\\n",
       "4  153 AVENUE B                   ...                  5                 0   \n",
       "\n",
       "   TOTAL UNITS  LAND SQUARE FEET  GROSS SQUARE FEET  YEAR BUILT  \\\n",
       "4            5            1633.0             6440.0        1900   \n",
       "\n",
       "   TAX CLASS AT TIME OF SALE  BUILDING CLASS AT TIME OF SALE SALE PRICE  \\\n",
       "4                          2                              C2  3600000.0   \n",
       "\n",
       "             SALE DATE  \n",
       "4  2017-07-19 00:00:00  \n",
       "\n",
       "[1 rows x 21 columns]"
      ]
     },
     "execution_count": 44,
     "metadata": {},
     "output_type": "execute_result"
    }
   ],
   "source": [
    "data.head(1)"
   ]
  },
  {
   "cell_type": "code",
   "execution_count": 45,
   "metadata": {},
   "outputs": [
    {
     "data": {
      "text/plain": [
       "{'whiskers': [<matplotlib.lines.Line2D at 0x24d3bae1a88>,\n",
       "  <matplotlib.lines.Line2D at 0x24d3bae1b88>],\n",
       " 'caps': [<matplotlib.lines.Line2D at 0x24d3bae5bc8>,\n",
       "  <matplotlib.lines.Line2D at 0x24d3bae5cc8>],\n",
       " 'boxes': [<matplotlib.lines.Line2D at 0x24d3badbec8>],\n",
       " 'medians': [<matplotlib.lines.Line2D at 0x24d3baeacc8>],\n",
       " 'fliers': [<matplotlib.lines.Line2D at 0x24d3baeadc8>],\n",
       " 'means': []}"
      ]
     },
     "execution_count": 45,
     "metadata": {},
     "output_type": "execute_result"
    },
    {
     "data": {
      "image/png": "[encoded data removed]",
      "text/plain": [
       "<Figure size 576x396 with 1 Axes>"
      ]
     },
     "metadata": {},
     "output_type": "display_data"
    }
   ],
   "source": [
    "plt.boxplot(data['GROSS SQUARE FEET'])"
   ]
  },
  {
   "cell_type": "code",
   "execution_count": 46,
   "metadata": {},
   "outputs": [
    {
     "name": "stdout",
     "output_type": "stream",
     "text": [
      "981.9000000000001\n",
      "7000.0\n"
     ]
    }
   ],
   "source": [
    "print(data['GROSS SQUARE FEET'].quantile(0.05))\n",
    "print(data['GROSS SQUARE FEET'].quantile(0.95))"
   ]
  },
  {
   "cell_type": "code",
   "execution_count": 47,
   "metadata": {},
   "outputs": [],
   "source": [
    "data['GROSS SQUARE FEET'] = np.where(data['GROSS SQUARE FEET'] < 981.9000000000001 , 981.9000000000001,data['GROSS SQUARE FEET'])\n",
    "data['GROSS SQUARE FEET'] = np.where(data['GROSS SQUARE FEET'] > 7000.0 , 7000.0,data['GROSS SQUARE FEET'])"
   ]
  },
  {
   "cell_type": "code",
   "execution_count": 48,
   "metadata": {},
   "outputs": [
    {
     "data": {
      "text/plain": [
       "{'whiskers': [<matplotlib.lines.Line2D at 0x24d3bb4c788>,\n",
       "  <matplotlib.lines.Line2D at 0x24d3bb4cf48>],\n",
       " 'caps': [<matplotlib.lines.Line2D at 0x24d3bb4e748>,\n",
       "  <matplotlib.lines.Line2D at 0x24d3bb4eec8>],\n",
       " 'boxes': [<matplotlib.lines.Line2D at 0x24d3bb48c48>],\n",
       " 'medians': [<matplotlib.lines.Line2D at 0x24d3bb4efc8>],\n",
       " 'fliers': [<matplotlib.lines.Line2D at 0x24d3bb53e48>],\n",
       " 'means': []}"
      ]
     },
     "execution_count": 48,
     "metadata": {},
     "output_type": "execute_result"
    },
    {
     "data": {
      "image/png": "[encoded data removed]",
      "text/plain": [
       "<Figure size 576x396 with 1 Axes>"
      ]
     },
     "metadata": {},
     "output_type": "display_data"
    }
   ],
   "source": [
    "plt.boxplot(data['GROSS SQUARE FEET'])"
   ]
  },
  {
   "cell_type": "code",
   "execution_count": 49,
   "metadata": {},
   "outputs": [
    {
     "data": {
      "text/plain": [
       "{'whiskers': [<matplotlib.lines.Line2D at 0x24d3bbb5488>,\n",
       "  <matplotlib.lines.Line2D at 0x24d3bbb5c48>],\n",
       " 'caps': [<matplotlib.lines.Line2D at 0x24d3bbb5d48>,\n",
       "  <matplotlib.lines.Line2D at 0x24d3bbb7bc8>],\n",
       " 'boxes': [<matplotlib.lines.Line2D at 0x24d3bbb2948>],\n",
       " 'medians': [<matplotlib.lines.Line2D at 0x24d3bbb7cc8>],\n",
       " 'fliers': [<matplotlib.lines.Line2D at 0x24d3bbbbb48>],\n",
       " 'means': []}"
      ]
     },
     "execution_count": 49,
     "metadata": {},
     "output_type": "execute_result"
    },
    {
     "data": {
      "image/png": "[encoded data removed]",
      "text/plain": [
       "<Figure size 576x396 with 1 Axes>"
      ]
     },
     "metadata": {},
     "output_type": "display_data"
    }
   ],
   "source": [
    "plt.boxplot(data['YEAR BUILT'])"
   ]
  },
  {
   "cell_type": "code",
   "execution_count": 50,
   "metadata": {},
   "outputs": [
    {
     "name": "stdout",
     "output_type": "stream",
     "text": [
      "1901.0\n",
      "2004.0\n"
     ]
    }
   ],
   "source": [
    "print(data['YEAR BUILT'].quantile(0.05))\n",
    "print(data['YEAR BUILT'].quantile(0.95))"
   ]
  },
  {
   "cell_type": "code",
   "execution_count": 51,
   "metadata": {},
   "outputs": [],
   "source": [
    "data['YEAR BUILT'] = np.where(data['YEAR BUILT'] < 1901 , 1901,data['GROSS SQUARE FEET'])\n"
   ]
  },
  {
   "cell_type": "code",
   "execution_count": 52,
   "metadata": {},
   "outputs": [
    {
     "data": {
      "text/plain": [
       "{'whiskers': [<matplotlib.lines.Line2D at 0x24d3bc1fec8>,\n",
       "  <matplotlib.lines.Line2D at 0x24d3bdf4888>],\n",
       " 'caps': [<matplotlib.lines.Line2D at 0x24d3bdf4f08>,\n",
       "  <matplotlib.lines.Line2D at 0x24d3bdf8808>],\n",
       " 'boxes': [<matplotlib.lines.Line2D at 0x24d3bc1f588>],\n",
       " 'medians': [<matplotlib.lines.Line2D at 0x24d3bdf8fc8>],\n",
       " 'fliers': [<matplotlib.lines.Line2D at 0x24d3bdfc848>],\n",
       " 'means': []}"
      ]
     },
     "execution_count": 52,
     "metadata": {},
     "output_type": "execute_result"
    },
    {
     "data": {
      "image/png": "[encoded data removed]",
      "text/plain": [
       "<Figure size 576x396 with 1 Axes>"
      ]
     },
     "metadata": {},
     "output_type": "display_data"
    }
   ],
   "source": [
    "plt.boxplot(data['YEAR BUILT'])"
   ]
  },
  {
   "cell_type": "code",
   "execution_count": 236,
   "metadata": {},
   "outputs": [
    {
     "data": {
      "text/plain": [
       "{'whiskers': [<matplotlib.lines.Line2D at 0x24d3ebe43c8>,\n",
       "  <matplotlib.lines.Line2D at 0x24d3ebded88>],\n",
       " 'caps': [<matplotlib.lines.Line2D at 0x24d3ebe4ec8>,\n",
       "  <matplotlib.lines.Line2D at 0x24d3ebe4fc8>],\n",
       " 'boxes': [<matplotlib.lines.Line2D at 0x24d3ebdeb08>],\n",
       " 'medians': [<matplotlib.lines.Line2D at 0x24d3ebea9c8>],\n",
       " 'fliers': [<matplotlib.lines.Line2D at 0x24d3ebeaf08>],\n",
       " 'means': []}"
      ]
     },
     "execution_count": 236,
     "metadata": {},
     "output_type": "execute_result"
    },
    {
     "data": {
      "image/png": "[encoded data removed]",
      "text/plain": [
       "<Figure size 576x396 with 1 Axes>"
      ]
     },
     "metadata": {},
     "output_type": "display_data"
    }
   ],
   "source": [
    "plt.boxplot(data['RESIDENTIAL UNITS'])"
   ]
  },
  {
   "cell_type": "code",
   "execution_count": 238,
   "metadata": {},
   "outputs": [
    {
     "name": "stdout",
     "output_type": "stream",
     "text": [
      "1.0\n",
      "35.0\n"
     ]
    }
   ],
   "source": [
    "print(data['RESIDENTIAL UNITS'].quantile(0.05))\n",
    "print(data['RESIDENTIAL UNITS'].quantile(0.95))\n"
   ]
  },
  {
   "cell_type": "code",
   "execution_count": 239,
   "metadata": {},
   "outputs": [],
   "source": [
    "data['RESIDENTIAL UNITS'] = np.where(data['RESIDENTIAL UNITS'] < 1 , 1,data['RESIDENTIAL UNITS'])\n",
    "data['RESIDENTIAL UNITS'] = np.where(data['RESIDENTIAL UNITS'] > 35 , 35,data['RESIDENTIAL UNITS'])"
   ]
  },
  {
   "cell_type": "code",
   "execution_count": 240,
   "metadata": {},
   "outputs": [
    {
     "data": {
      "text/plain": [
       "{'whiskers': [<matplotlib.lines.Line2D at 0x24d3ec48fc8>,\n",
       "  <matplotlib.lines.Line2D at 0x24d3ec48a08>],\n",
       " 'caps': [<matplotlib.lines.Line2D at 0x24d3ec4cb48>,\n",
       "  <matplotlib.lines.Line2D at 0x24d3ec4cf48>],\n",
       " 'boxes': [<matplotlib.lines.Line2D at 0x24d3ec48788>],\n",
       " 'medians': [<matplotlib.lines.Line2D at 0x24d3ec4ccc8>],\n",
       " 'fliers': [<matplotlib.lines.Line2D at 0x24d3ec54b88>],\n",
       " 'means': []}"
      ]
     },
     "execution_count": 240,
     "metadata": {},
     "output_type": "execute_result"
    },
    {
     "data": {
      "image/png": "[encoded data removed]",
      "text/plain": [
       "<Figure size 576x396 with 1 Axes>"
      ]
     },
     "metadata": {},
     "output_type": "display_data"
    }
   ],
   "source": [
    "plt.boxplot(data['RESIDENTIAL UNITS'])"
   ]
  },
  {
   "cell_type": "code",
   "execution_count": 241,
   "metadata": {},
   "outputs": [
    {
     "data": {
      "text/html": [
       "<div>\n",
       "<style scoped>\n",
       "    .dataframe tbody tr th:only-of-type {\n",
       "        vertical-align: middle;\n",
       "    }\n",
       "\n",
       "    .dataframe tbody tr th {\n",
       "        vertical-align: top;\n",
       "    }\n",
       "\n",
       "    .dataframe thead th {\n",
       "        text-align: right;\n",
       "    }\n",
       "</style>\n",
       "<table border=\"1\" class=\"dataframe\">\n",
       "  <thead>\n",
       "    <tr style=\"text-align: right;\">\n",
       "      <th></th>\n",
       "      <th>BOROUGH</th>\n",
       "      <th>BLOCK</th>\n",
       "      <th>LOT</th>\n",
       "      <th>ZIP CODE</th>\n",
       "      <th>RESIDENTIAL UNITS</th>\n",
       "      <th>COMMERCIAL UNITS</th>\n",
       "      <th>TOTAL UNITS</th>\n",
       "      <th>LAND SQUARE FEET</th>\n",
       "      <th>GROSS SQUARE FEET</th>\n",
       "      <th>YEAR BUILT</th>\n",
       "      <th>TAX CLASS AT TIME OF SALE</th>\n",
       "      <th>SALE PRICE</th>\n",
       "    </tr>\n",
       "  </thead>\n",
       "  <tbody>\n",
       "    <tr>\n",
       "      <td>count</td>\n",
       "      <td>1447.000000</td>\n",
       "      <td>1447.000000</td>\n",
       "      <td>1447.000000</td>\n",
       "      <td>1447.000000</td>\n",
       "      <td>1447.000000</td>\n",
       "      <td>1447.000000</td>\n",
       "      <td>1447.000000</td>\n",
       "      <td>1447.00000</td>\n",
       "      <td>1447.000000</td>\n",
       "      <td>1447.000000</td>\n",
       "      <td>1447.000000</td>\n",
       "      <td>1.447000e+03</td>\n",
       "    </tr>\n",
       "    <tr>\n",
       "      <td>mean</td>\n",
       "      <td>2.903939</td>\n",
       "      <td>3944.240498</td>\n",
       "      <td>39.214236</td>\n",
       "      <td>10929.665515</td>\n",
       "      <td>6.055287</td>\n",
       "      <td>1.563234</td>\n",
       "      <td>14.606773</td>\n",
       "      <td>2838.11472</td>\n",
       "      <td>4150.648445</td>\n",
       "      <td>3921.561437</td>\n",
       "      <td>1.788528</td>\n",
       "      <td>1.689814e+06</td>\n",
       "    </tr>\n",
       "    <tr>\n",
       "      <td>std</td>\n",
       "      <td>1.096217</td>\n",
       "      <td>3156.361332</td>\n",
       "      <td>63.441523</td>\n",
       "      <td>512.578822</td>\n",
       "      <td>9.044900</td>\n",
       "      <td>1.646062</td>\n",
       "      <td>72.736576</td>\n",
       "      <td>1725.87968</td>\n",
       "      <td>1874.499524</td>\n",
       "      <td>1886.281251</td>\n",
       "      <td>0.953732</td>\n",
       "      <td>1.233147e+06</td>\n",
       "    </tr>\n",
       "    <tr>\n",
       "      <td>min</td>\n",
       "      <td>1.000000</td>\n",
       "      <td>16.000000</td>\n",
       "      <td>1.000000</td>\n",
       "      <td>10001.000000</td>\n",
       "      <td>1.000000</td>\n",
       "      <td>1.000000</td>\n",
       "      <td>1.000000</td>\n",
       "      <td>1462.00000</td>\n",
       "      <td>981.900000</td>\n",
       "      <td>981.900000</td>\n",
       "      <td>1.000000</td>\n",
       "      <td>2.200000e+05</td>\n",
       "    </tr>\n",
       "    <tr>\n",
       "      <td>25%</td>\n",
       "      <td>2.000000</td>\n",
       "      <td>1429.000000</td>\n",
       "      <td>9.000000</td>\n",
       "      <td>10457.000000</td>\n",
       "      <td>2.000000</td>\n",
       "      <td>1.000000</td>\n",
       "      <td>3.000000</td>\n",
       "      <td>1788.00000</td>\n",
       "      <td>2605.500000</td>\n",
       "      <td>2300.500000</td>\n",
       "      <td>1.000000</td>\n",
       "      <td>6.558855e+05</td>\n",
       "    </tr>\n",
       "    <tr>\n",
       "      <td>50%</td>\n",
       "      <td>3.000000</td>\n",
       "      <td>3200.000000</td>\n",
       "      <td>30.000000</td>\n",
       "      <td>11212.000000</td>\n",
       "      <td>2.000000</td>\n",
       "      <td>1.000000</td>\n",
       "      <td>3.000000</td>\n",
       "      <td>2075.00000</td>\n",
       "      <td>3600.000000</td>\n",
       "      <td>3300.000000</td>\n",
       "      <td>2.000000</td>\n",
       "      <td>1.200000e+06</td>\n",
       "    </tr>\n",
       "    <tr>\n",
       "      <td>75%</td>\n",
       "      <td>4.000000</td>\n",
       "      <td>5641.500000</td>\n",
       "      <td>48.000000</td>\n",
       "      <td>11234.000000</td>\n",
       "      <td>5.000000</td>\n",
       "      <td>2.000000</td>\n",
       "      <td>6.000000</td>\n",
       "      <td>3008.50000</td>\n",
       "      <td>5958.500000</td>\n",
       "      <td>5369.000000</td>\n",
       "      <td>2.000000</td>\n",
       "      <td>3.000000e+06</td>\n",
       "    </tr>\n",
       "    <tr>\n",
       "      <td>max</td>\n",
       "      <td>5.000000</td>\n",
       "      <td>16180.000000</td>\n",
       "      <td>1402.000000</td>\n",
       "      <td>11694.000000</td>\n",
       "      <td>35.000000</td>\n",
       "      <td>25.000000</td>\n",
       "      <td>1866.000000</td>\n",
       "      <td>7500.00000</td>\n",
       "      <td>7000.000000</td>\n",
       "      <td>7000.000000</td>\n",
       "      <td>4.000000</td>\n",
       "      <td>3.600000e+06</td>\n",
       "    </tr>\n",
       "  </tbody>\n",
       "</table>\n",
       "</div>"
      ],
      "text/plain": [
       "           BOROUGH         BLOCK          LOT      ZIP CODE  \\\n",
       "count  1447.000000   1447.000000  1447.000000   1447.000000   \n",
       "mean      2.903939   3944.240498    39.214236  10929.665515   \n",
       "std       1.096217   3156.361332    63.441523    512.578822   \n",
       "min       1.000000     16.000000     1.000000  10001.000000   \n",
       "25%       2.000000   1429.000000     9.000000  10457.000000   \n",
       "50%       3.000000   3200.000000    30.000000  11212.000000   \n",
       "75%       4.000000   5641.500000    48.000000  11234.000000   \n",
       "max       5.000000  16180.000000  1402.000000  11694.000000   \n",
       "\n",
       "       RESIDENTIAL UNITS  COMMERCIAL UNITS  TOTAL UNITS  LAND SQUARE FEET  \\\n",
       "count        1447.000000       1447.000000  1447.000000        1447.00000   \n",
       "mean            6.055287          1.563234    14.606773        2838.11472   \n",
       "std             9.044900          1.646062    72.736576        1725.87968   \n",
       "min             1.000000          1.000000     1.000000        1462.00000   \n",
       "25%             2.000000          1.000000     3.000000        1788.00000   \n",
       "50%             2.000000          1.000000     3.000000        2075.00000   \n",
       "75%             5.000000          2.000000     6.000000        3008.50000   \n",
       "max            35.000000         25.000000  1866.000000        7500.00000   \n",
       "\n",
       "       GROSS SQUARE FEET   YEAR BUILT  TAX CLASS AT TIME OF SALE    SALE PRICE  \n",
       "count        1447.000000  1447.000000                1447.000000  1.447000e+03  \n",
       "mean         4150.648445  3921.561437                   1.788528  1.689814e+06  \n",
       "std          1874.499524  1886.281251                   0.953732  1.233147e+06  \n",
       "min           981.900000   981.900000                   1.000000  2.200000e+05  \n",
       "25%          2605.500000  2300.500000                   1.000000  6.558855e+05  \n",
       "50%          3600.000000  3300.000000                   2.000000  1.200000e+06  \n",
       "75%          5958.500000  5369.000000                   2.000000  3.000000e+06  \n",
       "max          7000.000000  7000.000000                   4.000000  3.600000e+06  "
      ]
     },
     "execution_count": 241,
     "metadata": {},
     "output_type": "execute_result"
    }
   ],
   "source": [
    "data.describe()"
   ]
  },
  {
   "cell_type": "code",
   "execution_count": 242,
   "metadata": {},
   "outputs": [],
   "source": [
    "data = data[data['TOTAL UNITS'] > 0]\n",
    "data = data[data['COMMERCIAL UNITS'] > 0]\n",
    "data = data[data['ZIP CODE'] > 0]\n",
    "data = data[data['YEAR BUILT'] > 0]\n",
    "data = data[data['RESIDENTIAL UNITS'] > 0]"
   ]
  },
  {
   "cell_type": "code",
   "execution_count": null,
   "metadata": {},
   "outputs": [],
   "source": []
  },
  {
   "cell_type": "code",
   "execution_count": 243,
   "metadata": {},
   "outputs": [
    {
     "data": {
      "text/plain": [
       "(1447, 21)"
      ]
     },
     "execution_count": 243,
     "metadata": {},
     "output_type": "execute_result"
    }
   ],
   "source": [
    "data.shape"
   ]
  },
  {
   "cell_type": "code",
   "execution_count": 268,
   "metadata": {},
   "outputs": [],
   "source": [
    "columns = [ 'BOROUGH','LAND SQUARE FEET','GROSS SQUARE FEET','SALE PRICE']\n",
    "sub_data = data[columns]"
   ]
  },
  {
   "cell_type": "code",
   "execution_count": 269,
   "metadata": {},
   "outputs": [
    {
     "data": {
      "text/plain": [
       "StandardScaler(copy=True, with_mean=True, with_std=True)"
      ]
     },
     "execution_count": 269,
     "metadata": {},
     "output_type": "execute_result"
    }
   ],
   "source": [
    "from sklearn.preprocessing import StandardScaler\n",
    "scaler = StandardScaler()\n",
    "scaler.fit(sub_data)"
   ]
  },
  {
   "cell_type": "code",
   "execution_count": 270,
   "metadata": {},
   "outputs": [
    {
     "data": {
      "text/html": [
       "<div>\n",
       "<style scoped>\n",
       "    .dataframe tbody tr th:only-of-type {\n",
       "        vertical-align: middle;\n",
       "    }\n",
       "\n",
       "    .dataframe tbody tr th {\n",
       "        vertical-align: top;\n",
       "    }\n",
       "\n",
       "    .dataframe thead th {\n",
       "        text-align: right;\n",
       "    }\n",
       "</style>\n",
       "<table border=\"1\" class=\"dataframe\">\n",
       "  <thead>\n",
       "    <tr style=\"text-align: right;\">\n",
       "      <th></th>\n",
       "      <th>BOROUGH</th>\n",
       "      <th>LAND SQUARE FEET</th>\n",
       "      <th>GROSS SQUARE FEET</th>\n",
       "      <th>SALE PRICE</th>\n",
       "    </tr>\n",
       "  </thead>\n",
       "  <tbody>\n",
       "    <tr>\n",
       "      <td>count</td>\n",
       "      <td>1447.000000</td>\n",
       "      <td>1447.00000</td>\n",
       "      <td>1447.000000</td>\n",
       "      <td>1.447000e+03</td>\n",
       "    </tr>\n",
       "    <tr>\n",
       "      <td>mean</td>\n",
       "      <td>2.903939</td>\n",
       "      <td>2838.11472</td>\n",
       "      <td>4150.648445</td>\n",
       "      <td>1.689814e+06</td>\n",
       "    </tr>\n",
       "    <tr>\n",
       "      <td>std</td>\n",
       "      <td>1.096217</td>\n",
       "      <td>1725.87968</td>\n",
       "      <td>1874.499524</td>\n",
       "      <td>1.233147e+06</td>\n",
       "    </tr>\n",
       "    <tr>\n",
       "      <td>min</td>\n",
       "      <td>1.000000</td>\n",
       "      <td>1462.00000</td>\n",
       "      <td>981.900000</td>\n",
       "      <td>2.200000e+05</td>\n",
       "    </tr>\n",
       "    <tr>\n",
       "      <td>25%</td>\n",
       "      <td>2.000000</td>\n",
       "      <td>1788.00000</td>\n",
       "      <td>2605.500000</td>\n",
       "      <td>6.558855e+05</td>\n",
       "    </tr>\n",
       "    <tr>\n",
       "      <td>50%</td>\n",
       "      <td>3.000000</td>\n",
       "      <td>2075.00000</td>\n",
       "      <td>3600.000000</td>\n",
       "      <td>1.200000e+06</td>\n",
       "    </tr>\n",
       "    <tr>\n",
       "      <td>75%</td>\n",
       "      <td>4.000000</td>\n",
       "      <td>3008.50000</td>\n",
       "      <td>5958.500000</td>\n",
       "      <td>3.000000e+06</td>\n",
       "    </tr>\n",
       "    <tr>\n",
       "      <td>max</td>\n",
       "      <td>5.000000</td>\n",
       "      <td>7500.00000</td>\n",
       "      <td>7000.000000</td>\n",
       "      <td>3.600000e+06</td>\n",
       "    </tr>\n",
       "  </tbody>\n",
       "</table>\n",
       "</div>"
      ],
      "text/plain": [
       "           BOROUGH  LAND SQUARE FEET  GROSS SQUARE FEET    SALE PRICE\n",
       "count  1447.000000        1447.00000        1447.000000  1.447000e+03\n",
       "mean      2.903939        2838.11472        4150.648445  1.689814e+06\n",
       "std       1.096217        1725.87968        1874.499524  1.233147e+06\n",
       "min       1.000000        1462.00000         981.900000  2.200000e+05\n",
       "25%       2.000000        1788.00000        2605.500000  6.558855e+05\n",
       "50%       3.000000        2075.00000        3600.000000  1.200000e+06\n",
       "75%       4.000000        3008.50000        5958.500000  3.000000e+06\n",
       "max       5.000000        7500.00000        7000.000000  3.600000e+06"
      ]
     },
     "execution_count": 270,
     "metadata": {},
     "output_type": "execute_result"
    }
   ],
   "source": [
    "sub_data.describe()"
   ]
  },
  {
   "cell_type": "code",
   "execution_count": 271,
   "metadata": {},
   "outputs": [],
   "source": [
    "transformed_data = scaler.transform(sub_data)"
   ]
  },
  {
   "cell_type": "code",
   "execution_count": 272,
   "metadata": {},
   "outputs": [],
   "source": [
    "transformed_data_df = pd.DataFrame(transformed_data, columns = sub_data.columns)"
   ]
  },
  {
   "cell_type": "code",
   "execution_count": 273,
   "metadata": {},
   "outputs": [
    {
     "data": {
      "text/plain": [
       "<seaborn.axisgrid.PairGrid at 0x24d3ec9f188>"
      ]
     },
     "execution_count": 273,
     "metadata": {},
     "output_type": "execute_result"
    },
    {
     "data": {
      "image/png": "[encoded data removed]",
      "text/plain": [
       "<Figure size 720x720 with 20 Axes>"
      ]
     },
     "metadata": {},
     "output_type": "display_data"
    }
   ],
   "source": [
    "sns.pairplot(transformed_data_df)"
   ]
  },
  {
   "cell_type": "raw",
   "metadata": {},
   "source": []
  },
  {
   "cell_type": "code",
   "execution_count": 274,
   "metadata": {},
   "outputs": [
    {
     "data": {
      "text/html": [
       "<div>\n",
       "<style scoped>\n",
       "    .dataframe tbody tr th:only-of-type {\n",
       "        vertical-align: middle;\n",
       "    }\n",
       "\n",
       "    .dataframe tbody tr th {\n",
       "        vertical-align: top;\n",
       "    }\n",
       "\n",
       "    .dataframe thead th {\n",
       "        text-align: right;\n",
       "    }\n",
       "</style>\n",
       "<table border=\"1\" class=\"dataframe\">\n",
       "  <thead>\n",
       "    <tr style=\"text-align: right;\">\n",
       "      <th></th>\n",
       "      <th>BOROUGH</th>\n",
       "      <th>LAND SQUARE FEET</th>\n",
       "      <th>GROSS SQUARE FEET</th>\n",
       "      <th>SALE PRICE</th>\n",
       "    </tr>\n",
       "  </thead>\n",
       "  <tbody>\n",
       "    <tr>\n",
       "      <td>BOROUGH</td>\n",
       "      <td>1.000000</td>\n",
       "      <td>-0.034910</td>\n",
       "      <td>-0.477425</td>\n",
       "      <td>-0.553631</td>\n",
       "    </tr>\n",
       "    <tr>\n",
       "      <td>LAND SQUARE FEET</td>\n",
       "      <td>-0.034910</td>\n",
       "      <td>1.000000</td>\n",
       "      <td>0.467543</td>\n",
       "      <td>0.287588</td>\n",
       "    </tr>\n",
       "    <tr>\n",
       "      <td>GROSS SQUARE FEET</td>\n",
       "      <td>-0.477425</td>\n",
       "      <td>0.467543</td>\n",
       "      <td>1.000000</td>\n",
       "      <td>0.670994</td>\n",
       "    </tr>\n",
       "    <tr>\n",
       "      <td>SALE PRICE</td>\n",
       "      <td>-0.553631</td>\n",
       "      <td>0.287588</td>\n",
       "      <td>0.670994</td>\n",
       "      <td>1.000000</td>\n",
       "    </tr>\n",
       "  </tbody>\n",
       "</table>\n",
       "</div>"
      ],
      "text/plain": [
       "                    BOROUGH  LAND SQUARE FEET  GROSS SQUARE FEET  SALE PRICE\n",
       "BOROUGH            1.000000         -0.034910          -0.477425   -0.553631\n",
       "LAND SQUARE FEET  -0.034910          1.000000           0.467543    0.287588\n",
       "GROSS SQUARE FEET -0.477425          0.467543           1.000000    0.670994\n",
       "SALE PRICE        -0.553631          0.287588           0.670994    1.000000"
      ]
     },
     "execution_count": 274,
     "metadata": {},
     "output_type": "execute_result"
    }
   ],
   "source": [
    "correlation_coefficients = sub_data.corr()\n",
    "correlation_coefficients"
   ]
  },
  {
   "cell_type": "code",
   "execution_count": 275,
   "metadata": {},
   "outputs": [
    {
     "data": {
      "text/plain": [
       "<matplotlib.axes._subplots.AxesSubplot at 0x24d40b8a288>"
      ]
     },
     "execution_count": 275,
     "metadata": {},
     "output_type": "execute_result"
    },
    {
     "data": {
      "image/png": "[encoded data removed]",
      "text/plain": [
       "<Figure size 576x396 with 2 Axes>"
      ]
     },
     "metadata": {},
     "output_type": "display_data"
    }
   ],
   "source": [
    "sns.heatmap(correlation_coefficients, annot=True, cmap='Reds')"
   ]
  },
  {
   "cell_type": "code",
   "execution_count": 276,
   "metadata": {},
   "outputs": [
    {
     "data": {
      "text/plain": [
       "Index(['BOROUGH', 'NEIGHBORHOOD', 'BUILDING CLASS CATEGORY',\n",
       "       'TAX CLASS AT PRESENT', 'BLOCK', 'LOT', 'EASE-MENT',\n",
       "       'BUILDING CLASS AT PRESENT', 'ADDRESS', 'APARTMENT NUMBER', 'ZIP CODE',\n",
       "       'RESIDENTIAL UNITS', 'COMMERCIAL UNITS', 'TOTAL UNITS',\n",
       "       'LAND SQUARE FEET', 'GROSS SQUARE FEET', 'YEAR BUILT',\n",
       "       'TAX CLASS AT TIME OF SALE', 'BUILDING CLASS AT TIME OF SALE',\n",
       "       'SALE PRICE', 'SALE DATE'],\n",
       "      dtype='object')"
      ]
     },
     "execution_count": 276,
     "metadata": {},
     "output_type": "execute_result"
    }
   ],
   "source": [
    "data.columns"
   ]
  },
  {
   "cell_type": "code",
   "execution_count": 277,
   "metadata": {},
   "outputs": [
    {
     "data": {
      "text/html": [
       "<div>\n",
       "<style scoped>\n",
       "    .dataframe tbody tr th:only-of-type {\n",
       "        vertical-align: middle;\n",
       "    }\n",
       "\n",
       "    .dataframe tbody tr th {\n",
       "        vertical-align: top;\n",
       "    }\n",
       "\n",
       "    .dataframe thead th {\n",
       "        text-align: right;\n",
       "    }\n",
       "</style>\n",
       "<table border=\"1\" class=\"dataframe\">\n",
       "  <thead>\n",
       "    <tr style=\"text-align: right;\">\n",
       "      <th></th>\n",
       "      <th>BOROUGH</th>\n",
       "      <th>BLOCK</th>\n",
       "      <th>LOT</th>\n",
       "      <th>ZIP CODE</th>\n",
       "      <th>RESIDENTIAL UNITS</th>\n",
       "      <th>COMMERCIAL UNITS</th>\n",
       "      <th>TOTAL UNITS</th>\n",
       "      <th>LAND SQUARE FEET</th>\n",
       "      <th>GROSS SQUARE FEET</th>\n",
       "      <th>YEAR BUILT</th>\n",
       "      <th>TAX CLASS AT TIME OF SALE</th>\n",
       "      <th>SALE PRICE</th>\n",
       "    </tr>\n",
       "  </thead>\n",
       "  <tbody>\n",
       "    <tr>\n",
       "      <td>count</td>\n",
       "      <td>1447.000000</td>\n",
       "      <td>1447.000000</td>\n",
       "      <td>1447.000000</td>\n",
       "      <td>1447.000000</td>\n",
       "      <td>1447.000000</td>\n",
       "      <td>1447.000000</td>\n",
       "      <td>1447.000000</td>\n",
       "      <td>1447.00000</td>\n",
       "      <td>1447.000000</td>\n",
       "      <td>1447.000000</td>\n",
       "      <td>1447.000000</td>\n",
       "      <td>1.447000e+03</td>\n",
       "    </tr>\n",
       "    <tr>\n",
       "      <td>mean</td>\n",
       "      <td>2.903939</td>\n",
       "      <td>3944.240498</td>\n",
       "      <td>39.214236</td>\n",
       "      <td>10929.665515</td>\n",
       "      <td>6.055287</td>\n",
       "      <td>1.563234</td>\n",
       "      <td>14.606773</td>\n",
       "      <td>2838.11472</td>\n",
       "      <td>4150.648445</td>\n",
       "      <td>3921.561437</td>\n",
       "      <td>1.788528</td>\n",
       "      <td>1.689814e+06</td>\n",
       "    </tr>\n",
       "    <tr>\n",
       "      <td>std</td>\n",
       "      <td>1.096217</td>\n",
       "      <td>3156.361332</td>\n",
       "      <td>63.441523</td>\n",
       "      <td>512.578822</td>\n",
       "      <td>9.044900</td>\n",
       "      <td>1.646062</td>\n",
       "      <td>72.736576</td>\n",
       "      <td>1725.87968</td>\n",
       "      <td>1874.499524</td>\n",
       "      <td>1886.281251</td>\n",
       "      <td>0.953732</td>\n",
       "      <td>1.233147e+06</td>\n",
       "    </tr>\n",
       "    <tr>\n",
       "      <td>min</td>\n",
       "      <td>1.000000</td>\n",
       "      <td>16.000000</td>\n",
       "      <td>1.000000</td>\n",
       "      <td>10001.000000</td>\n",
       "      <td>1.000000</td>\n",
       "      <td>1.000000</td>\n",
       "      <td>1.000000</td>\n",
       "      <td>1462.00000</td>\n",
       "      <td>981.900000</td>\n",
       "      <td>981.900000</td>\n",
       "      <td>1.000000</td>\n",
       "      <td>2.200000e+05</td>\n",
       "    </tr>\n",
       "    <tr>\n",
       "      <td>25%</td>\n",
       "      <td>2.000000</td>\n",
       "      <td>1429.000000</td>\n",
       "      <td>9.000000</td>\n",
       "      <td>10457.000000</td>\n",
       "      <td>2.000000</td>\n",
       "      <td>1.000000</td>\n",
       "      <td>3.000000</td>\n",
       "      <td>1788.00000</td>\n",
       "      <td>2605.500000</td>\n",
       "      <td>2300.500000</td>\n",
       "      <td>1.000000</td>\n",
       "      <td>6.558855e+05</td>\n",
       "    </tr>\n",
       "    <tr>\n",
       "      <td>50%</td>\n",
       "      <td>3.000000</td>\n",
       "      <td>3200.000000</td>\n",
       "      <td>30.000000</td>\n",
       "      <td>11212.000000</td>\n",
       "      <td>2.000000</td>\n",
       "      <td>1.000000</td>\n",
       "      <td>3.000000</td>\n",
       "      <td>2075.00000</td>\n",
       "      <td>3600.000000</td>\n",
       "      <td>3300.000000</td>\n",
       "      <td>2.000000</td>\n",
       "      <td>1.200000e+06</td>\n",
       "    </tr>\n",
       "    <tr>\n",
       "      <td>75%</td>\n",
       "      <td>4.000000</td>\n",
       "      <td>5641.500000</td>\n",
       "      <td>48.000000</td>\n",
       "      <td>11234.000000</td>\n",
       "      <td>5.000000</td>\n",
       "      <td>2.000000</td>\n",
       "      <td>6.000000</td>\n",
       "      <td>3008.50000</td>\n",
       "      <td>5958.500000</td>\n",
       "      <td>5369.000000</td>\n",
       "      <td>2.000000</td>\n",
       "      <td>3.000000e+06</td>\n",
       "    </tr>\n",
       "    <tr>\n",
       "      <td>max</td>\n",
       "      <td>5.000000</td>\n",
       "      <td>16180.000000</td>\n",
       "      <td>1402.000000</td>\n",
       "      <td>11694.000000</td>\n",
       "      <td>35.000000</td>\n",
       "      <td>25.000000</td>\n",
       "      <td>1866.000000</td>\n",
       "      <td>7500.00000</td>\n",
       "      <td>7000.000000</td>\n",
       "      <td>7000.000000</td>\n",
       "      <td>4.000000</td>\n",
       "      <td>3.600000e+06</td>\n",
       "    </tr>\n",
       "  </tbody>\n",
       "</table>\n",
       "</div>"
      ],
      "text/plain": [
       "           BOROUGH         BLOCK          LOT      ZIP CODE  \\\n",
       "count  1447.000000   1447.000000  1447.000000   1447.000000   \n",
       "mean      2.903939   3944.240498    39.214236  10929.665515   \n",
       "std       1.096217   3156.361332    63.441523    512.578822   \n",
       "min       1.000000     16.000000     1.000000  10001.000000   \n",
       "25%       2.000000   1429.000000     9.000000  10457.000000   \n",
       "50%       3.000000   3200.000000    30.000000  11212.000000   \n",
       "75%       4.000000   5641.500000    48.000000  11234.000000   \n",
       "max       5.000000  16180.000000  1402.000000  11694.000000   \n",
       "\n",
       "       RESIDENTIAL UNITS  COMMERCIAL UNITS  TOTAL UNITS  LAND SQUARE FEET  \\\n",
       "count        1447.000000       1447.000000  1447.000000        1447.00000   \n",
       "mean            6.055287          1.563234    14.606773        2838.11472   \n",
       "std             9.044900          1.646062    72.736576        1725.87968   \n",
       "min             1.000000          1.000000     1.000000        1462.00000   \n",
       "25%             2.000000          1.000000     3.000000        1788.00000   \n",
       "50%             2.000000          1.000000     3.000000        2075.00000   \n",
       "75%             5.000000          2.000000     6.000000        3008.50000   \n",
       "max            35.000000         25.000000  1866.000000        7500.00000   \n",
       "\n",
       "       GROSS SQUARE FEET   YEAR BUILT  TAX CLASS AT TIME OF SALE    SALE PRICE  \n",
       "count        1447.000000  1447.000000                1447.000000  1.447000e+03  \n",
       "mean         4150.648445  3921.561437                   1.788528  1.689814e+06  \n",
       "std          1874.499524  1886.281251                   0.953732  1.233147e+06  \n",
       "min           981.900000   981.900000                   1.000000  2.200000e+05  \n",
       "25%          2605.500000  2300.500000                   1.000000  6.558855e+05  \n",
       "50%          3600.000000  3300.000000                   2.000000  1.200000e+06  \n",
       "75%          5958.500000  5369.000000                   2.000000  3.000000e+06  \n",
       "max          7000.000000  7000.000000                   4.000000  3.600000e+06  "
      ]
     },
     "execution_count": 277,
     "metadata": {},
     "output_type": "execute_result"
    }
   ],
   "source": [
    "data.describe()"
   ]
  },
  {
   "cell_type": "code",
   "execution_count": null,
   "metadata": {},
   "outputs": [],
   "source": []
  },
  {
   "cell_type": "code",
   "execution_count": 278,
   "metadata": {},
   "outputs": [],
   "source": [
    "features = ['BOROUGH','NEIGHBORHOOD', 'BUILDING CLASS CATEGORY','TAX CLASS AT PRESENT', 'BLOCK', 'LOT','RESIDENTIAL UNITS', 'COMMERCIAL UNITS', 'TOTAL UNITS', 'LAND SQUARE FEET', 'GROSS SQUARE FEET','YEAR BUILT']\n",
    "X_temp = data [features]\n",
    "X = pd.get_dummies(X_temp)"
   ]
  },
  {
   "cell_type": "code",
   "execution_count": null,
   "metadata": {},
   "outputs": [],
   "source": []
  },
  {
   "cell_type": "code",
   "execution_count": 279,
   "metadata": {},
   "outputs": [],
   "source": [
    "#X = data [features]\n"
   ]
  },
  {
   "cell_type": "code",
   "execution_count": 280,
   "metadata": {},
   "outputs": [
    {
     "data": {
      "text/plain": [
       "(1447, 227)"
      ]
     },
     "execution_count": 280,
     "metadata": {},
     "output_type": "execute_result"
    }
   ],
   "source": [
    "X.shape"
   ]
  },
  {
   "cell_type": "code",
   "execution_count": 281,
   "metadata": {},
   "outputs": [
    {
     "data": {
      "text/html": [
       "<div>\n",
       "<style scoped>\n",
       "    .dataframe tbody tr th:only-of-type {\n",
       "        vertical-align: middle;\n",
       "    }\n",
       "\n",
       "    .dataframe tbody tr th {\n",
       "        vertical-align: top;\n",
       "    }\n",
       "\n",
       "    .dataframe thead th {\n",
       "        text-align: right;\n",
       "    }\n",
       "</style>\n",
       "<table border=\"1\" class=\"dataframe\">\n",
       "  <thead>\n",
       "    <tr style=\"text-align: right;\">\n",
       "      <th></th>\n",
       "      <th>BOROUGH</th>\n",
       "      <th>BLOCK</th>\n",
       "      <th>LOT</th>\n",
       "      <th>RESIDENTIAL UNITS</th>\n",
       "      <th>COMMERCIAL UNITS</th>\n",
       "      <th>TOTAL UNITS</th>\n",
       "      <th>LAND SQUARE FEET</th>\n",
       "      <th>GROSS SQUARE FEET</th>\n",
       "      <th>YEAR BUILT</th>\n",
       "      <th>NEIGHBORHOOD_ALPHABET CITY</th>\n",
       "      <th>...</th>\n",
       "      <th>BUILDING CLASS CATEGORY_32 HOSPITAL AND HEALTH FACILITIES</th>\n",
       "      <th>BUILDING CLASS CATEGORY_33 EDUCATIONAL FACILITIES</th>\n",
       "      <th>BUILDING CLASS CATEGORY_35 INDOOR PUBLIC AND CULTURAL FACILITIES</th>\n",
       "      <th>BUILDING CLASS CATEGORY_37 RELIGIOUS FACILITIES</th>\n",
       "      <th>BUILDING CLASS CATEGORY_38 ASYLUMS AND HOMES</th>\n",
       "      <th>TAX CLASS AT PRESENT_1</th>\n",
       "      <th>TAX CLASS AT PRESENT_2</th>\n",
       "      <th>TAX CLASS AT PRESENT_2A</th>\n",
       "      <th>TAX CLASS AT PRESENT_2B</th>\n",
       "      <th>TAX CLASS AT PRESENT_4</th>\n",
       "    </tr>\n",
       "  </thead>\n",
       "  <tbody>\n",
       "    <tr>\n",
       "      <td>176</td>\n",
       "      <td>1</td>\n",
       "      <td>391</td>\n",
       "      <td>19</td>\n",
       "      <td>3</td>\n",
       "      <td>1</td>\n",
       "      <td>4</td>\n",
       "      <td>1520.0</td>\n",
       "      <td>3360.0</td>\n",
       "      <td>3360.0</td>\n",
       "      <td>1</td>\n",
       "      <td>...</td>\n",
       "      <td>0</td>\n",
       "      <td>0</td>\n",
       "      <td>0</td>\n",
       "      <td>0</td>\n",
       "      <td>0</td>\n",
       "      <td>0</td>\n",
       "      <td>0</td>\n",
       "      <td>1</td>\n",
       "      <td>0</td>\n",
       "      <td>0</td>\n",
       "    </tr>\n",
       "    <tr>\n",
       "      <td>177</td>\n",
       "      <td>1</td>\n",
       "      <td>393</td>\n",
       "      <td>4</td>\n",
       "      <td>4</td>\n",
       "      <td>1</td>\n",
       "      <td>5</td>\n",
       "      <td>2201.0</td>\n",
       "      <td>5608.0</td>\n",
       "      <td>1901.0</td>\n",
       "      <td>1</td>\n",
       "      <td>...</td>\n",
       "      <td>0</td>\n",
       "      <td>0</td>\n",
       "      <td>0</td>\n",
       "      <td>0</td>\n",
       "      <td>0</td>\n",
       "      <td>0</td>\n",
       "      <td>0</td>\n",
       "      <td>1</td>\n",
       "      <td>0</td>\n",
       "      <td>0</td>\n",
       "    </tr>\n",
       "    <tr>\n",
       "      <td>178</td>\n",
       "      <td>1</td>\n",
       "      <td>394</td>\n",
       "      <td>5</td>\n",
       "      <td>5</td>\n",
       "      <td>1</td>\n",
       "      <td>6</td>\n",
       "      <td>1779.0</td>\n",
       "      <td>3713.0</td>\n",
       "      <td>3713.0</td>\n",
       "      <td>1</td>\n",
       "      <td>...</td>\n",
       "      <td>0</td>\n",
       "      <td>0</td>\n",
       "      <td>0</td>\n",
       "      <td>0</td>\n",
       "      <td>0</td>\n",
       "      <td>0</td>\n",
       "      <td>0</td>\n",
       "      <td>1</td>\n",
       "      <td>0</td>\n",
       "      <td>0</td>\n",
       "    </tr>\n",
       "    <tr>\n",
       "      <td>216</td>\n",
       "      <td>1</td>\n",
       "      <td>769</td>\n",
       "      <td>49</td>\n",
       "      <td>2</td>\n",
       "      <td>1</td>\n",
       "      <td>3</td>\n",
       "      <td>2150.0</td>\n",
       "      <td>4978.0</td>\n",
       "      <td>4978.0</td>\n",
       "      <td>0</td>\n",
       "      <td>...</td>\n",
       "      <td>0</td>\n",
       "      <td>0</td>\n",
       "      <td>0</td>\n",
       "      <td>0</td>\n",
       "      <td>0</td>\n",
       "      <td>1</td>\n",
       "      <td>0</td>\n",
       "      <td>0</td>\n",
       "      <td>0</td>\n",
       "      <td>0</td>\n",
       "    </tr>\n",
       "    <tr>\n",
       "      <td>220</td>\n",
       "      <td>1</td>\n",
       "      <td>696</td>\n",
       "      <td>37</td>\n",
       "      <td>6</td>\n",
       "      <td>1</td>\n",
       "      <td>7</td>\n",
       "      <td>1463.0</td>\n",
       "      <td>3762.0</td>\n",
       "      <td>3762.0</td>\n",
       "      <td>0</td>\n",
       "      <td>...</td>\n",
       "      <td>0</td>\n",
       "      <td>0</td>\n",
       "      <td>0</td>\n",
       "      <td>0</td>\n",
       "      <td>0</td>\n",
       "      <td>0</td>\n",
       "      <td>0</td>\n",
       "      <td>0</td>\n",
       "      <td>1</td>\n",
       "      <td>0</td>\n",
       "    </tr>\n",
       "  </tbody>\n",
       "</table>\n",
       "<p>5 rows × 227 columns</p>\n",
       "</div>"
      ],
      "text/plain": [
       "     BOROUGH  BLOCK  LOT  RESIDENTIAL UNITS  COMMERCIAL UNITS  TOTAL UNITS  \\\n",
       "176        1    391   19                  3                 1            4   \n",
       "177        1    393    4                  4                 1            5   \n",
       "178        1    394    5                  5                 1            6   \n",
       "216        1    769   49                  2                 1            3   \n",
       "220        1    696   37                  6                 1            7   \n",
       "\n",
       "     LAND SQUARE FEET  GROSS SQUARE FEET  YEAR BUILT  \\\n",
       "176            1520.0             3360.0      3360.0   \n",
       "177            2201.0             5608.0      1901.0   \n",
       "178            1779.0             3713.0      3713.0   \n",
       "216            2150.0             4978.0      4978.0   \n",
       "220            1463.0             3762.0      3762.0   \n",
       "\n",
       "     NEIGHBORHOOD_ALPHABET CITY  ...  \\\n",
       "176                           1  ...   \n",
       "177                           1  ...   \n",
       "178                           1  ...   \n",
       "216                           0  ...   \n",
       "220                           0  ...   \n",
       "\n",
       "     BUILDING CLASS CATEGORY_32 HOSPITAL AND HEALTH FACILITIES            \\\n",
       "176                                                  0                     \n",
       "177                                                  0                     \n",
       "178                                                  0                     \n",
       "216                                                  0                     \n",
       "220                                                  0                     \n",
       "\n",
       "     BUILDING CLASS CATEGORY_33 EDUCATIONAL FACILITIES                    \\\n",
       "176                                                  0                     \n",
       "177                                                  0                     \n",
       "178                                                  0                     \n",
       "216                                                  0                     \n",
       "220                                                  0                     \n",
       "\n",
       "     BUILDING CLASS CATEGORY_35 INDOOR PUBLIC AND CULTURAL FACILITIES     \\\n",
       "176                                                  0                     \n",
       "177                                                  0                     \n",
       "178                                                  0                     \n",
       "216                                                  0                     \n",
       "220                                                  0                     \n",
       "\n",
       "     BUILDING CLASS CATEGORY_37 RELIGIOUS FACILITIES                      \\\n",
       "176                                                  0                     \n",
       "177                                                  0                     \n",
       "178                                                  0                     \n",
       "216                                                  0                     \n",
       "220                                                  0                     \n",
       "\n",
       "     BUILDING CLASS CATEGORY_38 ASYLUMS AND HOMES                         \\\n",
       "176                                                  0                     \n",
       "177                                                  0                     \n",
       "178                                                  0                     \n",
       "216                                                  0                     \n",
       "220                                                  0                     \n",
       "\n",
       "     TAX CLASS AT PRESENT_1  TAX CLASS AT PRESENT_2  TAX CLASS AT PRESENT_2A  \\\n",
       "176                       0                       0                        1   \n",
       "177                       0                       0                        1   \n",
       "178                       0                       0                        1   \n",
       "216                       1                       0                        0   \n",
       "220                       0                       0                        0   \n",
       "\n",
       "     TAX CLASS AT PRESENT_2B  TAX CLASS AT PRESENT_4  \n",
       "176                        0                       0  \n",
       "177                        0                       0  \n",
       "178                        0                       0  \n",
       "216                        0                       0  \n",
       "220                        1                       0  \n",
       "\n",
       "[5 rows x 227 columns]"
      ]
     },
     "execution_count": 281,
     "metadata": {},
     "output_type": "execute_result"
    }
   ],
   "source": [
    "X.head(5)"
   ]
  },
  {
   "cell_type": "code",
   "execution_count": 282,
   "metadata": {},
   "outputs": [],
   "source": [
    "# Set y\n",
    "y = data['SALE PRICE']"
   ]
  },
  {
   "cell_type": "code",
   "execution_count": 283,
   "metadata": {},
   "outputs": [],
   "source": [
    "X_train, X_test, y_train, y_test = train_test_split(X, y, test_size = 0.4, random_state = 42)"
   ]
  },
  {
   "cell_type": "code",
   "execution_count": 284,
   "metadata": {},
   "outputs": [],
   "source": [
    "model = LinearRegression() "
   ]
  },
  {
   "cell_type": "code",
   "execution_count": 285,
   "metadata": {},
   "outputs": [
    {
     "data": {
      "text/plain": [
       "LinearRegression(copy_X=True, fit_intercept=True, n_jobs=None, normalize=False)"
      ]
     },
     "execution_count": 285,
     "metadata": {},
     "output_type": "execute_result"
    }
   ],
   "source": [
    "model.fit(X_train, y_train)"
   ]
  },
  {
   "cell_type": "code",
   "execution_count": 286,
   "metadata": {},
   "outputs": [],
   "source": [
    "coefficient = model.coef_"
   ]
  },
  {
   "cell_type": "code",
   "execution_count": 287,
   "metadata": {},
   "outputs": [],
   "source": [
    "intercept = model.intercept_"
   ]
  },
  {
   "cell_type": "code",
   "execution_count": 288,
   "metadata": {},
   "outputs": [
    {
     "data": {
      "text/html": [
       "<div>\n",
       "<style scoped>\n",
       "    .dataframe tbody tr th:only-of-type {\n",
       "        vertical-align: middle;\n",
       "    }\n",
       "\n",
       "    .dataframe tbody tr th {\n",
       "        vertical-align: top;\n",
       "    }\n",
       "\n",
       "    .dataframe thead th {\n",
       "        text-align: right;\n",
       "    }\n",
       "</style>\n",
       "<table border=\"1\" class=\"dataframe\">\n",
       "  <thead>\n",
       "    <tr style=\"text-align: right;\">\n",
       "      <th></th>\n",
       "      <th>BOROUGH</th>\n",
       "      <th>BLOCK</th>\n",
       "      <th>LOT</th>\n",
       "      <th>RESIDENTIAL UNITS</th>\n",
       "      <th>COMMERCIAL UNITS</th>\n",
       "      <th>TOTAL UNITS</th>\n",
       "      <th>LAND SQUARE FEET</th>\n",
       "      <th>GROSS SQUARE FEET</th>\n",
       "      <th>YEAR BUILT</th>\n",
       "      <th>NEIGHBORHOOD_ALPHABET CITY</th>\n",
       "      <th>...</th>\n",
       "      <th>BUILDING CLASS CATEGORY_32 HOSPITAL AND HEALTH FACILITIES</th>\n",
       "      <th>BUILDING CLASS CATEGORY_33 EDUCATIONAL FACILITIES</th>\n",
       "      <th>BUILDING CLASS CATEGORY_35 INDOOR PUBLIC AND CULTURAL FACILITIES</th>\n",
       "      <th>BUILDING CLASS CATEGORY_37 RELIGIOUS FACILITIES</th>\n",
       "      <th>BUILDING CLASS CATEGORY_38 ASYLUMS AND HOMES</th>\n",
       "      <th>TAX CLASS AT PRESENT_1</th>\n",
       "      <th>TAX CLASS AT PRESENT_2</th>\n",
       "      <th>TAX CLASS AT PRESENT_2A</th>\n",
       "      <th>TAX CLASS AT PRESENT_2B</th>\n",
       "      <th>TAX CLASS AT PRESENT_4</th>\n",
       "    </tr>\n",
       "  </thead>\n",
       "  <tbody>\n",
       "    <tr>\n",
       "      <td>BOROUGH</td>\n",
       "      <td>1.000000</td>\n",
       "      <td>0.398842</td>\n",
       "      <td>-0.017633</td>\n",
       "      <td>-0.429460</td>\n",
       "      <td>-0.156641</td>\n",
       "      <td>-0.115984</td>\n",
       "      <td>-0.034910</td>\n",
       "      <td>-0.477425</td>\n",
       "      <td>-0.345656</td>\n",
       "      <td>-0.079192</td>\n",
       "      <td>...</td>\n",
       "      <td>-0.043430</td>\n",
       "      <td>0.002305</td>\n",
       "      <td>0.026303</td>\n",
       "      <td>0.015470</td>\n",
       "      <td>0.005162</td>\n",
       "      <td>0.337636</td>\n",
       "      <td>-0.424016</td>\n",
       "      <td>0.020689</td>\n",
       "      <td>-0.166583</td>\n",
       "      <td>0.065445</td>\n",
       "    </tr>\n",
       "    <tr>\n",
       "      <td>BLOCK</td>\n",
       "      <td>0.398842</td>\n",
       "      <td>1.000000</td>\n",
       "      <td>0.024964</td>\n",
       "      <td>-0.256795</td>\n",
       "      <td>-0.079892</td>\n",
       "      <td>-0.046030</td>\n",
       "      <td>-0.059686</td>\n",
       "      <td>-0.364699</td>\n",
       "      <td>-0.248200</td>\n",
       "      <td>-0.051305</td>\n",
       "      <td>...</td>\n",
       "      <td>-0.040160</td>\n",
       "      <td>0.013950</td>\n",
       "      <td>0.013333</td>\n",
       "      <td>-0.032215</td>\n",
       "      <td>-0.019286</td>\n",
       "      <td>0.252243</td>\n",
       "      <td>-0.251207</td>\n",
       "      <td>-0.083535</td>\n",
       "      <td>-0.128934</td>\n",
       "      <td>0.098298</td>\n",
       "    </tr>\n",
       "    <tr>\n",
       "      <td>LOT</td>\n",
       "      <td>-0.017633</td>\n",
       "      <td>0.024964</td>\n",
       "      <td>1.000000</td>\n",
       "      <td>-0.006236</td>\n",
       "      <td>-0.029030</td>\n",
       "      <td>-0.038753</td>\n",
       "      <td>0.064076</td>\n",
       "      <td>0.001934</td>\n",
       "      <td>-0.023646</td>\n",
       "      <td>-0.021476</td>\n",
       "      <td>...</td>\n",
       "      <td>-0.014706</td>\n",
       "      <td>-0.010041</td>\n",
       "      <td>0.030181</td>\n",
       "      <td>0.023523</td>\n",
       "      <td>0.037127</td>\n",
       "      <td>0.035705</td>\n",
       "      <td>0.051084</td>\n",
       "      <td>-0.075077</td>\n",
       "      <td>-0.011205</td>\n",
       "      <td>-0.011770</td>\n",
       "    </tr>\n",
       "    <tr>\n",
       "      <td>RESIDENTIAL UNITS</td>\n",
       "      <td>-0.429460</td>\n",
       "      <td>-0.256795</td>\n",
       "      <td>-0.006236</td>\n",
       "      <td>1.000000</td>\n",
       "      <td>0.448933</td>\n",
       "      <td>0.443477</td>\n",
       "      <td>0.653781</td>\n",
       "      <td>0.670351</td>\n",
       "      <td>0.625175</td>\n",
       "      <td>-0.010361</td>\n",
       "      <td>...</td>\n",
       "      <td>0.041894</td>\n",
       "      <td>-0.014703</td>\n",
       "      <td>-0.014703</td>\n",
       "      <td>-0.031320</td>\n",
       "      <td>0.111655</td>\n",
       "      <td>-0.446611</td>\n",
       "      <td>0.861792</td>\n",
       "      <td>-0.138085</td>\n",
       "      <td>0.020148</td>\n",
       "      <td>-0.116585</td>\n",
       "    </tr>\n",
       "    <tr>\n",
       "      <td>COMMERCIAL UNITS</td>\n",
       "      <td>-0.156641</td>\n",
       "      <td>-0.079892</td>\n",
       "      <td>-0.029030</td>\n",
       "      <td>0.448933</td>\n",
       "      <td>1.000000</td>\n",
       "      <td>0.578835</td>\n",
       "      <td>0.426472</td>\n",
       "      <td>0.363008</td>\n",
       "      <td>0.354047</td>\n",
       "      <td>-0.015602</td>\n",
       "      <td>...</td>\n",
       "      <td>-0.018021</td>\n",
       "      <td>-0.009001</td>\n",
       "      <td>-0.009001</td>\n",
       "      <td>-0.022087</td>\n",
       "      <td>-0.005841</td>\n",
       "      <td>-0.309308</td>\n",
       "      <td>0.385140</td>\n",
       "      <td>-0.071297</td>\n",
       "      <td>0.030537</td>\n",
       "      <td>0.108064</td>\n",
       "    </tr>\n",
       "    <tr>\n",
       "      <td>...</td>\n",
       "      <td>...</td>\n",
       "      <td>...</td>\n",
       "      <td>...</td>\n",
       "      <td>...</td>\n",
       "      <td>...</td>\n",
       "      <td>...</td>\n",
       "      <td>...</td>\n",
       "      <td>...</td>\n",
       "      <td>...</td>\n",
       "      <td>...</td>\n",
       "      <td>...</td>\n",
       "      <td>...</td>\n",
       "      <td>...</td>\n",
       "      <td>...</td>\n",
       "      <td>...</td>\n",
       "      <td>...</td>\n",
       "      <td>...</td>\n",
       "      <td>...</td>\n",
       "      <td>...</td>\n",
       "      <td>...</td>\n",
       "      <td>...</td>\n",
       "    </tr>\n",
       "    <tr>\n",
       "      <td>TAX CLASS AT PRESENT_1</td>\n",
       "      <td>0.337636</td>\n",
       "      <td>0.252243</td>\n",
       "      <td>0.035705</td>\n",
       "      <td>-0.446611</td>\n",
       "      <td>-0.309308</td>\n",
       "      <td>-0.151290</td>\n",
       "      <td>-0.301780</td>\n",
       "      <td>-0.641274</td>\n",
       "      <td>-0.559634</td>\n",
       "      <td>-0.041974</td>\n",
       "      <td>...</td>\n",
       "      <td>-0.048484</td>\n",
       "      <td>-0.024217</td>\n",
       "      <td>-0.024217</td>\n",
       "      <td>-0.037840</td>\n",
       "      <td>-0.054226</td>\n",
       "      <td>1.000000</td>\n",
       "      <td>-0.388889</td>\n",
       "      <td>-0.439050</td>\n",
       "      <td>-0.275662</td>\n",
       "      <td>-0.343786</td>\n",
       "    </tr>\n",
       "    <tr>\n",
       "      <td>TAX CLASS AT PRESENT_2</td>\n",
       "      <td>-0.424016</td>\n",
       "      <td>-0.251207</td>\n",
       "      <td>0.051084</td>\n",
       "      <td>0.861792</td>\n",
       "      <td>0.385140</td>\n",
       "      <td>0.313020</td>\n",
       "      <td>0.551469</td>\n",
       "      <td>0.628208</td>\n",
       "      <td>0.560873</td>\n",
       "      <td>-0.019249</td>\n",
       "      <td>...</td>\n",
       "      <td>-0.022234</td>\n",
       "      <td>-0.011106</td>\n",
       "      <td>-0.011106</td>\n",
       "      <td>-0.027250</td>\n",
       "      <td>-0.024867</td>\n",
       "      <td>-0.388889</td>\n",
       "      <td>1.000000</td>\n",
       "      <td>-0.201342</td>\n",
       "      <td>-0.126415</td>\n",
       "      <td>-0.157655</td>\n",
       "    </tr>\n",
       "    <tr>\n",
       "      <td>TAX CLASS AT PRESENT_2A</td>\n",
       "      <td>0.020689</td>\n",
       "      <td>-0.083535</td>\n",
       "      <td>-0.075077</td>\n",
       "      <td>-0.138085</td>\n",
       "      <td>-0.071297</td>\n",
       "      <td>-0.064607</td>\n",
       "      <td>-0.175715</td>\n",
       "      <td>0.012319</td>\n",
       "      <td>-0.006159</td>\n",
       "      <td>0.095602</td>\n",
       "      <td>...</td>\n",
       "      <td>-0.025102</td>\n",
       "      <td>-0.012538</td>\n",
       "      <td>-0.012538</td>\n",
       "      <td>-0.030765</td>\n",
       "      <td>-0.028075</td>\n",
       "      <td>-0.439050</td>\n",
       "      <td>-0.201342</td>\n",
       "      <td>1.000000</td>\n",
       "      <td>-0.142720</td>\n",
       "      <td>-0.177990</td>\n",
       "    </tr>\n",
       "    <tr>\n",
       "      <td>TAX CLASS AT PRESENT_2B</td>\n",
       "      <td>-0.166583</td>\n",
       "      <td>-0.128934</td>\n",
       "      <td>-0.011205</td>\n",
       "      <td>0.020148</td>\n",
       "      <td>0.030537</td>\n",
       "      <td>-0.025574</td>\n",
       "      <td>-0.055622</td>\n",
       "      <td>0.314072</td>\n",
       "      <td>0.279755</td>\n",
       "      <td>-0.013644</td>\n",
       "      <td>...</td>\n",
       "      <td>-0.015761</td>\n",
       "      <td>-0.007872</td>\n",
       "      <td>-0.007872</td>\n",
       "      <td>-0.019316</td>\n",
       "      <td>-0.017627</td>\n",
       "      <td>-0.275662</td>\n",
       "      <td>-0.126415</td>\n",
       "      <td>-0.142720</td>\n",
       "      <td>1.000000</td>\n",
       "      <td>-0.111753</td>\n",
       "    </tr>\n",
       "    <tr>\n",
       "      <td>TAX CLASS AT PRESENT_4</td>\n",
       "      <td>0.065445</td>\n",
       "      <td>0.098298</td>\n",
       "      <td>-0.011770</td>\n",
       "      <td>-0.116585</td>\n",
       "      <td>0.108064</td>\n",
       "      <td>-0.014254</td>\n",
       "      <td>0.110727</td>\n",
       "      <td>0.010189</td>\n",
       "      <td>0.010363</td>\n",
       "      <td>-0.017016</td>\n",
       "      <td>...</td>\n",
       "      <td>0.141030</td>\n",
       "      <td>0.070442</td>\n",
       "      <td>0.070442</td>\n",
       "      <td>0.140023</td>\n",
       "      <td>0.157731</td>\n",
       "      <td>-0.343786</td>\n",
       "      <td>-0.157655</td>\n",
       "      <td>-0.177990</td>\n",
       "      <td>-0.111753</td>\n",
       "      <td>1.000000</td>\n",
       "    </tr>\n",
       "  </tbody>\n",
       "</table>\n",
       "<p>227 rows × 227 columns</p>\n",
       "</div>"
      ],
      "text/plain": [
       "                          BOROUGH     BLOCK       LOT  RESIDENTIAL UNITS  \\\n",
       "BOROUGH                  1.000000  0.398842 -0.017633          -0.429460   \n",
       "BLOCK                    0.398842  1.000000  0.024964          -0.256795   \n",
       "LOT                     -0.017633  0.024964  1.000000          -0.006236   \n",
       "RESIDENTIAL UNITS       -0.429460 -0.256795 -0.006236           1.000000   \n",
       "COMMERCIAL UNITS        -0.156641 -0.079892 -0.029030           0.448933   \n",
       "...                           ...       ...       ...                ...   \n",
       "TAX CLASS AT PRESENT_1   0.337636  0.252243  0.035705          -0.446611   \n",
       "TAX CLASS AT PRESENT_2  -0.424016 -0.251207  0.051084           0.861792   \n",
       "TAX CLASS AT PRESENT_2A  0.020689 -0.083535 -0.075077          -0.138085   \n",
       "TAX CLASS AT PRESENT_2B -0.166583 -0.128934 -0.011205           0.020148   \n",
       "TAX CLASS AT PRESENT_4   0.065445  0.098298 -0.011770          -0.116585   \n",
       "\n",
       "                         COMMERCIAL UNITS  TOTAL UNITS  LAND SQUARE FEET  \\\n",
       "BOROUGH                         -0.156641    -0.115984         -0.034910   \n",
       "BLOCK                           -0.079892    -0.046030         -0.059686   \n",
       "LOT                             -0.029030    -0.038753          0.064076   \n",
       "RESIDENTIAL UNITS                0.448933     0.443477          0.653781   \n",
       "COMMERCIAL UNITS                 1.000000     0.578835          0.426472   \n",
       "...                                   ...          ...               ...   \n",
       "TAX CLASS AT PRESENT_1          -0.309308    -0.151290         -0.301780   \n",
       "TAX CLASS AT PRESENT_2           0.385140     0.313020          0.551469   \n",
       "TAX CLASS AT PRESENT_2A         -0.071297    -0.064607         -0.175715   \n",
       "TAX CLASS AT PRESENT_2B          0.030537    -0.025574         -0.055622   \n",
       "TAX CLASS AT PRESENT_4           0.108064    -0.014254          0.110727   \n",
       "\n",
       "                         GROSS SQUARE FEET  YEAR BUILT  \\\n",
       "BOROUGH                          -0.477425   -0.345656   \n",
       "BLOCK                            -0.364699   -0.248200   \n",
       "LOT                               0.001934   -0.023646   \n",
       "RESIDENTIAL UNITS                 0.670351    0.625175   \n",
       "COMMERCIAL UNITS                  0.363008    0.354047   \n",
       "...                                    ...         ...   \n",
       "TAX CLASS AT PRESENT_1           -0.641274   -0.559634   \n",
       "TAX CLASS AT PRESENT_2            0.628208    0.560873   \n",
       "TAX CLASS AT PRESENT_2A           0.012319   -0.006159   \n",
       "TAX CLASS AT PRESENT_2B           0.314072    0.279755   \n",
       "TAX CLASS AT PRESENT_4            0.010189    0.010363   \n",
       "\n",
       "                         NEIGHBORHOOD_ALPHABET CITY  ...  \\\n",
       "BOROUGH                                   -0.079192  ...   \n",
       "BLOCK                                     -0.051305  ...   \n",
       "LOT                                       -0.021476  ...   \n",
       "RESIDENTIAL UNITS                         -0.010361  ...   \n",
       "COMMERCIAL UNITS                          -0.015602  ...   \n",
       "...                                             ...  ...   \n",
       "TAX CLASS AT PRESENT_1                    -0.041974  ...   \n",
       "TAX CLASS AT PRESENT_2                    -0.019249  ...   \n",
       "TAX CLASS AT PRESENT_2A                    0.095602  ...   \n",
       "TAX CLASS AT PRESENT_2B                   -0.013644  ...   \n",
       "TAX CLASS AT PRESENT_4                    -0.017016  ...   \n",
       "\n",
       "                         BUILDING CLASS CATEGORY_32 HOSPITAL AND HEALTH FACILITIES            \\\n",
       "BOROUGH                                                          -0.043430                     \n",
       "BLOCK                                                            -0.040160                     \n",
       "LOT                                                              -0.014706                     \n",
       "RESIDENTIAL UNITS                                                 0.041894                     \n",
       "COMMERCIAL UNITS                                                 -0.018021                     \n",
       "...                                                                    ...                     \n",
       "TAX CLASS AT PRESENT_1                                           -0.048484                     \n",
       "TAX CLASS AT PRESENT_2                                           -0.022234                     \n",
       "TAX CLASS AT PRESENT_2A                                          -0.025102                     \n",
       "TAX CLASS AT PRESENT_2B                                          -0.015761                     \n",
       "TAX CLASS AT PRESENT_4                                            0.141030                     \n",
       "\n",
       "                         BUILDING CLASS CATEGORY_33 EDUCATIONAL FACILITIES                    \\\n",
       "BOROUGH                                                           0.002305                     \n",
       "BLOCK                                                             0.013950                     \n",
       "LOT                                                              -0.010041                     \n",
       "RESIDENTIAL UNITS                                                -0.014703                     \n",
       "COMMERCIAL UNITS                                                 -0.009001                     \n",
       "...                                                                    ...                     \n",
       "TAX CLASS AT PRESENT_1                                           -0.024217                     \n",
       "TAX CLASS AT PRESENT_2                                           -0.011106                     \n",
       "TAX CLASS AT PRESENT_2A                                          -0.012538                     \n",
       "TAX CLASS AT PRESENT_2B                                          -0.007872                     \n",
       "TAX CLASS AT PRESENT_4                                            0.070442                     \n",
       "\n",
       "                         BUILDING CLASS CATEGORY_35 INDOOR PUBLIC AND CULTURAL FACILITIES     \\\n",
       "BOROUGH                                                           0.026303                     \n",
       "BLOCK                                                             0.013333                     \n",
       "LOT                                                               0.030181                     \n",
       "RESIDENTIAL UNITS                                                -0.014703                     \n",
       "COMMERCIAL UNITS                                                 -0.009001                     \n",
       "...                                                                    ...                     \n",
       "TAX CLASS AT PRESENT_1                                           -0.024217                     \n",
       "TAX CLASS AT PRESENT_2                                           -0.011106                     \n",
       "TAX CLASS AT PRESENT_2A                                          -0.012538                     \n",
       "TAX CLASS AT PRESENT_2B                                          -0.007872                     \n",
       "TAX CLASS AT PRESENT_4                                            0.070442                     \n",
       "\n",
       "                         BUILDING CLASS CATEGORY_37 RELIGIOUS FACILITIES                      \\\n",
       "BOROUGH                                                           0.015470                     \n",
       "BLOCK                                                            -0.032215                     \n",
       "LOT                                                               0.023523                     \n",
       "RESIDENTIAL UNITS                                                -0.031320                     \n",
       "COMMERCIAL UNITS                                                 -0.022087                     \n",
       "...                                                                    ...                     \n",
       "TAX CLASS AT PRESENT_1                                           -0.037840                     \n",
       "TAX CLASS AT PRESENT_2                                           -0.027250                     \n",
       "TAX CLASS AT PRESENT_2A                                          -0.030765                     \n",
       "TAX CLASS AT PRESENT_2B                                          -0.019316                     \n",
       "TAX CLASS AT PRESENT_4                                            0.140023                     \n",
       "\n",
       "                         BUILDING CLASS CATEGORY_38 ASYLUMS AND HOMES                         \\\n",
       "BOROUGH                                                           0.005162                     \n",
       "BLOCK                                                            -0.019286                     \n",
       "LOT                                                               0.037127                     \n",
       "RESIDENTIAL UNITS                                                 0.111655                     \n",
       "COMMERCIAL UNITS                                                 -0.005841                     \n",
       "...                                                                    ...                     \n",
       "TAX CLASS AT PRESENT_1                                           -0.054226                     \n",
       "TAX CLASS AT PRESENT_2                                           -0.024867                     \n",
       "TAX CLASS AT PRESENT_2A                                          -0.028075                     \n",
       "TAX CLASS AT PRESENT_2B                                          -0.017627                     \n",
       "TAX CLASS AT PRESENT_4                                            0.157731                     \n",
       "\n",
       "                         TAX CLASS AT PRESENT_1  TAX CLASS AT PRESENT_2  \\\n",
       "BOROUGH                                0.337636               -0.424016   \n",
       "BLOCK                                  0.252243               -0.251207   \n",
       "LOT                                    0.035705                0.051084   \n",
       "RESIDENTIAL UNITS                     -0.446611                0.861792   \n",
       "COMMERCIAL UNITS                      -0.309308                0.385140   \n",
       "...                                         ...                     ...   \n",
       "TAX CLASS AT PRESENT_1                 1.000000               -0.388889   \n",
       "TAX CLASS AT PRESENT_2                -0.388889                1.000000   \n",
       "TAX CLASS AT PRESENT_2A               -0.439050               -0.201342   \n",
       "TAX CLASS AT PRESENT_2B               -0.275662               -0.126415   \n",
       "TAX CLASS AT PRESENT_4                -0.343786               -0.157655   \n",
       "\n",
       "                         TAX CLASS AT PRESENT_2A  TAX CLASS AT PRESENT_2B  \\\n",
       "BOROUGH                                 0.020689                -0.166583   \n",
       "BLOCK                                  -0.083535                -0.128934   \n",
       "LOT                                    -0.075077                -0.011205   \n",
       "RESIDENTIAL UNITS                      -0.138085                 0.020148   \n",
       "COMMERCIAL UNITS                       -0.071297                 0.030537   \n",
       "...                                          ...                      ...   \n",
       "TAX CLASS AT PRESENT_1                 -0.439050                -0.275662   \n",
       "TAX CLASS AT PRESENT_2                 -0.201342                -0.126415   \n",
       "TAX CLASS AT PRESENT_2A                 1.000000                -0.142720   \n",
       "TAX CLASS AT PRESENT_2B                -0.142720                 1.000000   \n",
       "TAX CLASS AT PRESENT_4                 -0.177990                -0.111753   \n",
       "\n",
       "                         TAX CLASS AT PRESENT_4  \n",
       "BOROUGH                                0.065445  \n",
       "BLOCK                                  0.098298  \n",
       "LOT                                   -0.011770  \n",
       "RESIDENTIAL UNITS                     -0.116585  \n",
       "COMMERCIAL UNITS                       0.108064  \n",
       "...                                         ...  \n",
       "TAX CLASS AT PRESENT_1                -0.343786  \n",
       "TAX CLASS AT PRESENT_2                -0.157655  \n",
       "TAX CLASS AT PRESENT_2A               -0.177990  \n",
       "TAX CLASS AT PRESENT_2B               -0.111753  \n",
       "TAX CLASS AT PRESENT_4                 1.000000  \n",
       "\n",
       "[227 rows x 227 columns]"
      ]
     },
     "execution_count": 288,
     "metadata": {},
     "output_type": "execute_result"
    }
   ],
   "source": [
    "X.corr()"
   ]
  },
  {
   "cell_type": "code",
   "execution_count": 289,
   "metadata": {},
   "outputs": [
    {
     "data": {
      "text/plain": [
       "array([-3.71465710e+05, -4.73605688e+01,  4.23182135e+01,  1.20886607e+03,\n",
       "        2.63836643e+04,  5.47402594e+02,  1.06599046e+02,  1.44934854e+02,\n",
       "        3.29079259e+01,  1.06847950e+06,  1.30120316e-06,  7.86839335e+05,\n",
       "        4.51744920e+05,  5.30417018e+05,  3.01165578e+04, -2.21992377e-06,\n",
       "        4.24975659e+05, -1.00904876e+06, -1.08128940e+05, -2.52649073e+05,\n",
       "       -5.89755674e+05,  8.94288264e+05, -1.19593460e-06,  1.63653967e+06,\n",
       "        1.34346376e+05,  1.81957148e-07,  3.68100565e+04, -1.05042485e+06,\n",
       "        1.91036526e+06, -6.56307415e+05,  7.81685230e-07, -1.41244635e+05,\n",
       "       -4.76625516e+05,  8.84380420e+05, -1.35187322e+06, -7.57104669e+05,\n",
       "        7.64138700e+05,  6.61396531e+05, -8.77993428e+05,  2.70768213e+05,\n",
       "        1.83815051e+05,  1.26504738e+06, -2.38365806e+05,  1.39067083e+06,\n",
       "       -2.58988220e+05, -7.30777308e+04, -3.67872417e-07, -2.06869625e+05,\n",
       "        1.33750300e+05,  3.33228549e+04, -2.05182606e+05, -5.86863730e+05,\n",
       "        1.44238584e-07, -2.27164321e+05,  6.78647921e+04,  4.37245587e+03,\n",
       "       -6.02111478e+05, -1.01424598e+06,  7.30419653e+05,  4.54593564e+05,\n",
       "       -2.25017036e+05,  1.05530489e-07,  6.55603900e+05, -6.94054231e+05,\n",
       "       -2.40037784e+05, -4.33567862e+05, -7.33208937e+04, -4.98514077e+05,\n",
       "       -9.03748972e+05, -8.12535752e+05,  8.06763943e+05,  4.80540338e+04,\n",
       "       -1.96758486e+05,  2.77828231e+05,  9.60861894e+05,  5.51806489e+05,\n",
       "       -1.27716369e+05,  4.04575430e+04, -6.71996446e+05,  5.70340720e+05,\n",
       "        1.91816081e+05, -1.79902928e+05,  1.18683046e+06,  1.04407986e+06,\n",
       "        8.16848947e+05,  1.90540860e+06,  1.01080336e+04,  7.65285525e+04,\n",
       "        7.62023223e+05, -3.43257687e+05, -6.65267915e+05,  6.65523571e+04,\n",
       "       -7.21675263e+04,  3.32772815e+05,  1.41603516e+05, -4.13843572e+05,\n",
       "        7.83571261e+05,  1.00691613e+05,  8.29270072e+04,  1.08975006e+06,\n",
       "        2.68279109e-07, -1.37952156e-07, -8.87346687e-07,  3.16290731e+04,\n",
       "       -3.01912515e+05, -1.89291313e-07,  6.22446310e+05, -2.58601119e+05,\n",
       "       -1.79507039e+05,  8.70699150e+05,  6.59096020e+05,  2.84182317e+05,\n",
       "       -4.25556209e-07, -5.27334870e+05, -2.20590004e+05, -3.34810466e-07,\n",
       "       -6.29654738e+05, -4.89574798e+05,  3.07439618e+05,  1.46434777e+04,\n",
       "        8.44029273e+05,  5.34997032e+05,  9.45071780e+04, -9.90869012e-07,\n",
       "       -1.31928906e+06, -7.47364272e+05, -4.99749540e+05, -1.35010864e+06,\n",
       "        7.45383741e+05, -3.43046765e+05,  7.78585672e-07, -1.38462413e+05,\n",
       "        3.94971408e+05, -8.64258888e+05, -7.97711837e+04,  3.69887875e+04,\n",
       "       -2.23691074e+05,  2.49574538e+04,  1.80795981e+06,  7.10882639e+04,\n",
       "        7.00529199e-08, -1.02880189e+06,  4.23635356e-07, -3.55343385e+05,\n",
       "        5.45779256e+04,  5.38038368e+05,  1.23543294e+05, -6.82604026e+05,\n",
       "       -1.41886994e-06, -5.31622435e+04,  2.60436900e+05, -9.20763332e+05,\n",
       "       -1.25354637e+06,  1.97766832e+04, -2.18823583e+05, -1.91124855e-07,\n",
       "        3.19851097e-07,  1.62120470e+05, -1.27599408e+06, -3.71594873e+05,\n",
       "        8.44402756e+04,  5.26845376e+05, -6.45749063e+05, -2.69165057e+05,\n",
       "       -2.85955745e+04,  1.32224355e+05,  1.10911104e+05, -1.42823200e+05,\n",
       "        5.29994503e+04, -4.96139350e+05,  6.87961223e+05,  5.13411402e+04,\n",
       "       -9.52975824e-07, -1.64604046e+05, -8.64311160e+05,  8.60309228e-07,\n",
       "        9.15415407e+04,  5.44431673e+05,  7.41779761e+05, -2.45872265e+05,\n",
       "        3.69909685e-08, -1.29294110e+06, -4.31404291e+05, -2.69839718e+05,\n",
       "       -4.79527270e+04, -1.16475643e+06,  2.21046209e+05, -1.23142447e+06,\n",
       "       -1.05671178e+06, -1.71888198e+05,  1.46345425e+06,  5.49405961e+03,\n",
       "        2.42143869e-08,  1.90254255e+05, -1.35865000e+06,  2.99257005e+05,\n",
       "        4.91925618e+05,  1.46517591e+04, -3.97279739e+04, -1.41101635e+05,\n",
       "       -5.09060613e+05, -1.38462413e+05,  8.88461950e+05,  9.33659823e+05,\n",
       "        0.00000000e+00, -2.69879762e+06,  0.00000000e+00,  7.47415180e+05,\n",
       "        6.85914605e+04,  2.23565229e+05,  8.80968992e+05, -8.07031854e+05,\n",
       "       -2.35086001e+05, -5.26958739e+04,  3.74944429e+05,  1.72604813e+05,\n",
       "        0.00000000e+00, -1.12640289e+05, -1.00262792e+06,  0.00000000e+00,\n",
       "       -4.86474018e+04,  1.48101596e+06,  4.57382961e+05, -9.09990178e+04,\n",
       "       -2.24946541e+05, -3.22375723e+05,  1.80938321e+05])"
      ]
     },
     "execution_count": 289,
     "metadata": {},
     "output_type": "execute_result"
    }
   ],
   "source": [
    "coefficient"
   ]
  },
  {
   "cell_type": "code",
   "execution_count": 290,
   "metadata": {},
   "outputs": [
    {
     "data": {
      "text/plain": [
       "1358253.590977053"
      ]
     },
     "execution_count": 290,
     "metadata": {},
     "output_type": "execute_result"
    }
   ],
   "source": [
    "intercept"
   ]
  },
  {
   "cell_type": "code",
   "execution_count": 291,
   "metadata": {},
   "outputs": [
    {
     "data": {
      "text/plain": [
       "0.6001997772101487"
      ]
     },
     "execution_count": 291,
     "metadata": {},
     "output_type": "execute_result"
    }
   ],
   "source": [
    "model.score(X_test, y_test)"
   ]
  },
  {
   "cell_type": "code",
   "execution_count": 292,
   "metadata": {},
   "outputs": [],
   "source": [
    "y_predicted = model.predict(X_test)"
   ]
  },
  {
   "cell_type": "code",
   "execution_count": 293,
   "metadata": {},
   "outputs": [
    {
     "name": "stdout",
     "output_type": "stream",
     "text": [
      "582028616860.8737\n"
     ]
    }
   ],
   "source": [
    "print(mse(y_predicted, y_test))"
   ]
  },
  {
   "cell_type": "code",
   "execution_count": 294,
   "metadata": {},
   "outputs": [
    {
     "data": {
      "text/plain": [
       "762908.0002601058"
      ]
     },
     "execution_count": 294,
     "metadata": {},
     "output_type": "execute_result"
    }
   ],
   "source": [
    "np.sqrt(mse(y_predicted, y_test))"
   ]
  },
  {
   "cell_type": "code",
   "execution_count": null,
   "metadata": {},
   "outputs": [],
   "source": []
  },
  {
   "cell_type": "code",
   "execution_count": null,
   "metadata": {},
   "outputs": [],
   "source": []
  }
 ],
 "metadata": {
  "kernelspec": {
   "display_name": "Python 3",
   "language": "python",
   "name": "python3"
  },
  "language_info": {
   "codemirror_mode": {
    "name": "ipython",
    "version": 3
   },
   "file_extension": ".py",
   "mimetype": "text/x-python",
   "name": "python",
   "nbconvert_exporter": "python",
   "pygments_lexer": "ipython3",
   "version": "3.7.4"
  }
 },
 "nbformat": 4,
 "nbformat_minor": 2
}
